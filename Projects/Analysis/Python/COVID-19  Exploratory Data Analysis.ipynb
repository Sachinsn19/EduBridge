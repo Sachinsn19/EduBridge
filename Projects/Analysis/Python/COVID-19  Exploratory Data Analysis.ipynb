{
 "cells": [
  {
   "cell_type": "markdown",
   "metadata": {},
   "source": [
    "## Import Libraries"
   ]
  },
  {
   "cell_type": "code",
   "execution_count": 2,
   "metadata": {},
   "outputs": [],
   "source": [
    "import numpy as np\n",
    "import pandas as pd\n",
    "import matplotlib.pyplot as plt\n",
    "import seaborn as sns\n",
    "import warnings\n",
    "warnings.filterwarnings('ignore')\n",
    "from datetime import datetime "
   ]
  },
  {
   "cell_type": "markdown",
   "metadata": {},
   "source": [
    "## Read the data"
   ]
  },
  {
   "cell_type": "code",
   "execution_count": 3,
   "metadata": {},
   "outputs": [],
   "source": [
    "covid_data=pd.read_csv('covid_19_data.csv')"
   ]
  },
  {
   "cell_type": "code",
   "execution_count": 4,
   "metadata": {
    "scrolled": true
   },
   "outputs": [
    {
     "data": {
      "text/html": [
       "<div>\n",
       "<style scoped>\n",
       "    .dataframe tbody tr th:only-of-type {\n",
       "        vertical-align: middle;\n",
       "    }\n",
       "\n",
       "    .dataframe tbody tr th {\n",
       "        vertical-align: top;\n",
       "    }\n",
       "\n",
       "    .dataframe thead th {\n",
       "        text-align: right;\n",
       "    }\n",
       "</style>\n",
       "<table border=\"1\" class=\"dataframe\">\n",
       "  <thead>\n",
       "    <tr style=\"text-align: right;\">\n",
       "      <th></th>\n",
       "      <th>SNo</th>\n",
       "      <th>ObservationDate</th>\n",
       "      <th>Province/State</th>\n",
       "      <th>Country/Region</th>\n",
       "      <th>Last Update</th>\n",
       "      <th>Confirmed</th>\n",
       "      <th>Deaths</th>\n",
       "      <th>Recovered</th>\n",
       "    </tr>\n",
       "  </thead>\n",
       "  <tbody>\n",
       "    <tr>\n",
       "      <th>0</th>\n",
       "      <td>1</td>\n",
       "      <td>01/22/2020</td>\n",
       "      <td>Anhui</td>\n",
       "      <td>Mainland China</td>\n",
       "      <td>1/22/2020 17:00</td>\n",
       "      <td>1.0</td>\n",
       "      <td>0.0</td>\n",
       "      <td>0.0</td>\n",
       "    </tr>\n",
       "    <tr>\n",
       "      <th>1</th>\n",
       "      <td>2</td>\n",
       "      <td>01/22/2020</td>\n",
       "      <td>Beijing</td>\n",
       "      <td>Mainland China</td>\n",
       "      <td>1/22/2020 17:00</td>\n",
       "      <td>14.0</td>\n",
       "      <td>0.0</td>\n",
       "      <td>0.0</td>\n",
       "    </tr>\n",
       "    <tr>\n",
       "      <th>2</th>\n",
       "      <td>3</td>\n",
       "      <td>01/22/2020</td>\n",
       "      <td>Chongqing</td>\n",
       "      <td>Mainland China</td>\n",
       "      <td>1/22/2020 17:00</td>\n",
       "      <td>6.0</td>\n",
       "      <td>0.0</td>\n",
       "      <td>0.0</td>\n",
       "    </tr>\n",
       "    <tr>\n",
       "      <th>3</th>\n",
       "      <td>4</td>\n",
       "      <td>01/22/2020</td>\n",
       "      <td>Fujian</td>\n",
       "      <td>Mainland China</td>\n",
       "      <td>1/22/2020 17:00</td>\n",
       "      <td>1.0</td>\n",
       "      <td>0.0</td>\n",
       "      <td>0.0</td>\n",
       "    </tr>\n",
       "    <tr>\n",
       "      <th>4</th>\n",
       "      <td>5</td>\n",
       "      <td>01/22/2020</td>\n",
       "      <td>Gansu</td>\n",
       "      <td>Mainland China</td>\n",
       "      <td>1/22/2020 17:00</td>\n",
       "      <td>0.0</td>\n",
       "      <td>0.0</td>\n",
       "      <td>0.0</td>\n",
       "    </tr>\n",
       "  </tbody>\n",
       "</table>\n",
       "</div>"
      ],
      "text/plain": [
       "   SNo ObservationDate Province/State  Country/Region      Last Update  \\\n",
       "0    1      01/22/2020          Anhui  Mainland China  1/22/2020 17:00   \n",
       "1    2      01/22/2020        Beijing  Mainland China  1/22/2020 17:00   \n",
       "2    3      01/22/2020      Chongqing  Mainland China  1/22/2020 17:00   \n",
       "3    4      01/22/2020         Fujian  Mainland China  1/22/2020 17:00   \n",
       "4    5      01/22/2020          Gansu  Mainland China  1/22/2020 17:00   \n",
       "\n",
       "   Confirmed  Deaths  Recovered  \n",
       "0        1.0     0.0        0.0  \n",
       "1       14.0     0.0        0.0  \n",
       "2        6.0     0.0        0.0  \n",
       "3        1.0     0.0        0.0  \n",
       "4        0.0     0.0        0.0  "
      ]
     },
     "execution_count": 4,
     "metadata": {},
     "output_type": "execute_result"
    }
   ],
   "source": [
    "covid_data.head()"
   ]
  },
  {
   "cell_type": "markdown",
   "metadata": {},
   "source": [
    "## Data Cleaning"
   ]
  },
  {
   "cell_type": "code",
   "execution_count": 5,
   "metadata": {},
   "outputs": [],
   "source": [
    "covid_data.drop('SNo',axis=1,inplace=True)"
   ]
  },
  {
   "cell_type": "markdown",
   "metadata": {},
   "source": [
    "Dropped the SNo column, because there is already row index in the dataset"
   ]
  },
  {
   "cell_type": "code",
   "execution_count": 8,
   "metadata": {
    "scrolled": true
   },
   "outputs": [
    {
     "data": {
      "text/plain": [
       "ObservationDate     object\n",
       "Province/State      object\n",
       "Country/Region      object\n",
       "Last Update         object\n",
       "Confirmed          float64\n",
       "Deaths             float64\n",
       "Recovered          float64\n",
       "dtype: object"
      ]
     },
     "execution_count": 8,
     "metadata": {},
     "output_type": "execute_result"
    }
   ],
   "source": [
    "covid_data.dtypes"
   ]
  },
  {
   "cell_type": "markdown",
   "metadata": {},
   "source": [
    "There are object and float data types in the data set."
   ]
  },
  {
   "cell_type": "code",
   "execution_count": 9,
   "metadata": {},
   "outputs": [],
   "source": [
    "covid_data['ObservationDate']=pd.to_datetime(covid_data['ObservationDate'],format='%m/%d/%Y')"
   ]
  },
  {
   "cell_type": "markdown",
   "metadata": {},
   "source": [
    "converted the data type of observationDate into datetime datatype for easy analysing"
   ]
  },
  {
   "cell_type": "code",
   "execution_count": 10,
   "metadata": {
    "scrolled": true
   },
   "outputs": [
    {
     "data": {
      "text/plain": [
       "(306429, 7)"
      ]
     },
     "execution_count": 10,
     "metadata": {},
     "output_type": "execute_result"
    }
   ],
   "source": [
    "covid_data.shape"
   ]
  },
  {
   "cell_type": "markdown",
   "metadata": {},
   "source": [
    "The data contains 306429 rows and 7 columns"
   ]
  },
  {
   "cell_type": "code",
   "execution_count": 11,
   "metadata": {},
   "outputs": [
    {
     "data": {
      "text/plain": [
       "Index(['ObservationDate', 'Province/State', 'Country/Region', 'Last Update',\n",
       "       'Confirmed', 'Deaths', 'Recovered'],\n",
       "      dtype='object')"
      ]
     },
     "execution_count": 11,
     "metadata": {},
     "output_type": "execute_result"
    }
   ],
   "source": [
    "covid_data.columns"
   ]
  },
  {
   "cell_type": "code",
   "execution_count": 12,
   "metadata": {},
   "outputs": [
    {
     "data": {
      "text/plain": [
       "ObservationDate        0\n",
       "Province/State     78100\n",
       "Country/Region         0\n",
       "Last Update            0\n",
       "Confirmed              0\n",
       "Deaths                 0\n",
       "Recovered              0\n",
       "dtype: int64"
      ]
     },
     "execution_count": 12,
     "metadata": {},
     "output_type": "execute_result"
    }
   ],
   "source": [
    "covid_data.isnull().sum()"
   ]
  },
  {
   "cell_type": "markdown",
   "metadata": {},
   "source": [
    "There are 78100 missing values present in Province/State"
   ]
  },
  {
   "cell_type": "code",
   "execution_count": 13,
   "metadata": {},
   "outputs": [],
   "source": [
    "covid_data['Province/State'].fillna('Not Available',inplace=True)"
   ]
  },
  {
   "cell_type": "markdown",
   "metadata": {},
   "source": [
    "Replaced the missing values with string 'Not Available'"
   ]
  },
  {
   "cell_type": "markdown",
   "metadata": {},
   "source": [
    "## Exploratory Data Analysis"
   ]
  },
  {
   "cell_type": "code",
   "execution_count": 14,
   "metadata": {},
   "outputs": [
    {
     "data": {
      "text/plain": [
       "229"
      ]
     },
     "execution_count": 14,
     "metadata": {},
     "output_type": "execute_result"
    }
   ],
   "source": [
    "covid_data['Country/Region'].nunique()"
   ]
  },
  {
   "cell_type": "markdown",
   "metadata": {},
   "source": [
    "There are 229 Country/Region included in the data"
   ]
  },
  {
   "cell_type": "code",
   "execution_count": 15,
   "metadata": {},
   "outputs": [
    {
     "data": {
      "text/plain": [
       "array(['Mainland China', 'Hong Kong', 'Macau', 'Taiwan', 'US', 'Japan',\n",
       "       'Thailand', 'South Korea', 'China', 'Kiribati', 'Singapore',\n",
       "       'Philippines', 'Malaysia', 'Vietnam', 'Australia', 'Mexico',\n",
       "       'Brazil', 'Colombia', 'France', 'Nepal', 'Canada', 'Cambodia',\n",
       "       'Sri Lanka', 'Ivory Coast', 'Germany', 'Finland',\n",
       "       'United Arab Emirates', 'India', 'Italy', 'UK', 'Russia', 'Sweden',\n",
       "       'Spain', 'Belgium', 'Others', 'Egypt', 'Iran', 'Israel', 'Lebanon',\n",
       "       'Iraq', 'Oman', 'Afghanistan', 'Bahrain', 'Kuwait', 'Austria',\n",
       "       'Algeria', 'Croatia', 'Switzerland', 'Pakistan', 'Georgia',\n",
       "       'Greece', 'North Macedonia', 'Norway', 'Romania', 'Denmark',\n",
       "       'Estonia', 'Netherlands', 'San Marino', ' Azerbaijan', 'Belarus',\n",
       "       'Iceland', 'Lithuania', 'New Zealand', 'Nigeria', 'North Ireland',\n",
       "       'Ireland', 'Luxembourg', 'Monaco', 'Qatar', 'Ecuador',\n",
       "       'Azerbaijan', 'Czech Republic', 'Armenia', 'Dominican Republic',\n",
       "       'Indonesia', 'Portugal', 'Andorra', 'Latvia', 'Morocco',\n",
       "       'Saudi Arabia', 'Senegal', 'Argentina', 'Chile', 'Jordan',\n",
       "       'Ukraine', 'Saint Barthelemy', 'Hungary', 'Faroe Islands',\n",
       "       'Gibraltar', 'Liechtenstein', 'Poland', 'Tunisia', 'Palestine',\n",
       "       'Bosnia and Herzegovina', 'Slovenia', 'South Africa', 'Bhutan',\n",
       "       'Cameroon', 'Costa Rica', 'Peru', 'Serbia', 'Slovakia', 'Togo',\n",
       "       'Vatican City', 'French Guiana', 'Malta', 'Martinique',\n",
       "       'Republic of Ireland', 'Bulgaria', 'Maldives', 'Bangladesh',\n",
       "       'Moldova', 'Paraguay', 'Albania', 'Cyprus', 'St. Martin', 'Brunei',\n",
       "       'occupied Palestinian territory', \"('St. Martin',)\",\n",
       "       'Burkina Faso', 'Channel Islands', 'Holy See', 'Mongolia',\n",
       "       'Panama', 'Bolivia', 'Honduras', 'Congo (Kinshasa)', 'Jamaica',\n",
       "       'Reunion', 'Turkey', 'Cuba', 'Guyana', 'Kazakhstan',\n",
       "       'Cayman Islands', 'Guadeloupe', 'Ethiopia', 'Sudan', 'Guinea',\n",
       "       'Antigua and Barbuda', 'Aruba', 'Kenya', 'Uruguay', 'Ghana',\n",
       "       'Jersey', 'Namibia', 'Seychelles', 'Trinidad and Tobago',\n",
       "       'Venezuela', 'Curacao', 'Eswatini', 'Gabon', 'Guatemala',\n",
       "       'Guernsey', 'Mauritania', 'Rwanda', 'Saint Lucia',\n",
       "       'Saint Vincent and the Grenadines', 'Suriname', 'Kosovo',\n",
       "       'Central African Republic', 'Congo (Brazzaville)',\n",
       "       'Equatorial Guinea', 'Uzbekistan', 'Guam', 'Puerto Rico', 'Benin',\n",
       "       'Greenland', 'Liberia', 'Mayotte', 'Republic of the Congo',\n",
       "       'Somalia', 'Tanzania', 'The Bahamas', 'Barbados', 'Montenegro',\n",
       "       'The Gambia', 'Kyrgyzstan', 'Mauritius', 'Zambia', 'Djibouti',\n",
       "       'Gambia, The', 'Bahamas, The', 'Chad', 'El Salvador', 'Fiji',\n",
       "       'Nicaragua', 'Madagascar', 'Haiti', 'Angola', 'Cabo Verde',\n",
       "       'Niger', 'Papua New Guinea', 'Zimbabwe', 'Cape Verde',\n",
       "       'East Timor', 'Eritrea', 'Uganda', 'Bahamas', 'Dominica', 'Gambia',\n",
       "       'Grenada', 'Mozambique', 'Samoa', 'Syria', 'Timor-Leste', 'Belize',\n",
       "       'Laos', 'Libya', 'Diamond Princess', 'Guinea-Bissau', 'Mali',\n",
       "       'Saint Kitts and Nevis', 'West Bank and Gaza', 'Burma',\n",
       "       'MS Zaandam', 'Botswana', 'Burundi', 'Sierra Leone', 'Malawi',\n",
       "       'South Sudan', 'Sao Tome and Principe', 'Yemen', 'Comoros',\n",
       "       'Tajikistan', 'Lesotho', 'Solomon Islands', 'Marshall Islands',\n",
       "       'Vanuatu', 'Micronesia'], dtype=object)"
      ]
     },
     "execution_count": 15,
     "metadata": {},
     "output_type": "execute_result"
    }
   ],
   "source": [
    "covid_data['Country/Region'].unique()"
   ]
  },
  {
   "cell_type": "code",
   "execution_count": 16,
   "metadata": {},
   "outputs": [
    {
     "name": "stdout",
     "output_type": "stream",
     "text": [
      "<class 'pandas.core.frame.DataFrame'>\n",
      "RangeIndex: 306429 entries, 0 to 306428\n",
      "Data columns (total 7 columns):\n",
      " #   Column           Non-Null Count   Dtype         \n",
      "---  ------           --------------   -----         \n",
      " 0   ObservationDate  306429 non-null  datetime64[ns]\n",
      " 1   Province/State   306429 non-null  object        \n",
      " 2   Country/Region   306429 non-null  object        \n",
      " 3   Last Update      306429 non-null  object        \n",
      " 4   Confirmed        306429 non-null  float64       \n",
      " 5   Deaths           306429 non-null  float64       \n",
      " 6   Recovered        306429 non-null  float64       \n",
      "dtypes: datetime64[ns](1), float64(3), object(3)\n",
      "memory usage: 16.4+ MB\n"
     ]
    }
   ],
   "source": [
    "covid_data.info()"
   ]
  },
  {
   "cell_type": "code",
   "execution_count": 17,
   "metadata": {
    "scrolled": true
   },
   "outputs": [
    {
     "data": {
      "text/html": [
       "<div>\n",
       "<style scoped>\n",
       "    .dataframe tbody tr th:only-of-type {\n",
       "        vertical-align: middle;\n",
       "    }\n",
       "\n",
       "    .dataframe tbody tr th {\n",
       "        vertical-align: top;\n",
       "    }\n",
       "\n",
       "    .dataframe thead th {\n",
       "        text-align: right;\n",
       "    }\n",
       "</style>\n",
       "<table border=\"1\" class=\"dataframe\">\n",
       "  <thead>\n",
       "    <tr style=\"text-align: right;\">\n",
       "      <th></th>\n",
       "      <th>Confirmed</th>\n",
       "      <th>Deaths</th>\n",
       "      <th>Recovered</th>\n",
       "    </tr>\n",
       "  </thead>\n",
       "  <tbody>\n",
       "    <tr>\n",
       "      <th>count</th>\n",
       "      <td>3.064290e+05</td>\n",
       "      <td>306429.000000</td>\n",
       "      <td>3.064290e+05</td>\n",
       "    </tr>\n",
       "    <tr>\n",
       "      <th>mean</th>\n",
       "      <td>8.567091e+04</td>\n",
       "      <td>2036.403268</td>\n",
       "      <td>5.042029e+04</td>\n",
       "    </tr>\n",
       "    <tr>\n",
       "      <th>std</th>\n",
       "      <td>2.775516e+05</td>\n",
       "      <td>6410.938048</td>\n",
       "      <td>2.015124e+05</td>\n",
       "    </tr>\n",
       "    <tr>\n",
       "      <th>min</th>\n",
       "      <td>-3.028440e+05</td>\n",
       "      <td>-178.000000</td>\n",
       "      <td>-8.544050e+05</td>\n",
       "    </tr>\n",
       "    <tr>\n",
       "      <th>25%</th>\n",
       "      <td>1.042000e+03</td>\n",
       "      <td>13.000000</td>\n",
       "      <td>1.100000e+01</td>\n",
       "    </tr>\n",
       "    <tr>\n",
       "      <th>50%</th>\n",
       "      <td>1.037500e+04</td>\n",
       "      <td>192.000000</td>\n",
       "      <td>1.751000e+03</td>\n",
       "    </tr>\n",
       "    <tr>\n",
       "      <th>75%</th>\n",
       "      <td>5.075200e+04</td>\n",
       "      <td>1322.000000</td>\n",
       "      <td>2.027000e+04</td>\n",
       "    </tr>\n",
       "    <tr>\n",
       "      <th>max</th>\n",
       "      <td>5.863138e+06</td>\n",
       "      <td>112385.000000</td>\n",
       "      <td>6.399531e+06</td>\n",
       "    </tr>\n",
       "  </tbody>\n",
       "</table>\n",
       "</div>"
      ],
      "text/plain": [
       "          Confirmed         Deaths     Recovered\n",
       "count  3.064290e+05  306429.000000  3.064290e+05\n",
       "mean   8.567091e+04    2036.403268  5.042029e+04\n",
       "std    2.775516e+05    6410.938048  2.015124e+05\n",
       "min   -3.028440e+05    -178.000000 -8.544050e+05\n",
       "25%    1.042000e+03      13.000000  1.100000e+01\n",
       "50%    1.037500e+04     192.000000  1.751000e+03\n",
       "75%    5.075200e+04    1322.000000  2.027000e+04\n",
       "max    5.863138e+06  112385.000000  6.399531e+06"
      ]
     },
     "execution_count": 17,
     "metadata": {},
     "output_type": "execute_result"
    }
   ],
   "source": [
    "covid_data.describe()"
   ]
  },
  {
   "cell_type": "markdown",
   "metadata": {},
   "source": [
    "These are the statistical informations of covid data"
   ]
  },
  {
   "cell_type": "markdown",
   "metadata": {},
   "source": [
    "<h1 style=\"text-align:center\">World Wide COVID-19 Informations</h1>"
   ]
  },
  {
   "cell_type": "code",
   "execution_count": 18,
   "metadata": {
    "scrolled": false
   },
   "outputs": [
    {
     "data": {
      "text/html": [
       "<div>\n",
       "<style scoped>\n",
       "    .dataframe tbody tr th:only-of-type {\n",
       "        vertical-align: middle;\n",
       "    }\n",
       "\n",
       "    .dataframe tbody tr th {\n",
       "        vertical-align: top;\n",
       "    }\n",
       "\n",
       "    .dataframe thead th {\n",
       "        text-align: right;\n",
       "    }\n",
       "</style>\n",
       "<table border=\"1\" class=\"dataframe\">\n",
       "  <thead>\n",
       "    <tr style=\"text-align: right;\">\n",
       "      <th></th>\n",
       "      <th>ObservationDate</th>\n",
       "      <th>Country/Region</th>\n",
       "      <th>Last Update</th>\n",
       "      <th>Confirmed</th>\n",
       "      <th>Deaths</th>\n",
       "      <th>Recovered</th>\n",
       "    </tr>\n",
       "  </thead>\n",
       "  <tbody>\n",
       "    <tr>\n",
       "      <th>298068</th>\n",
       "      <td>2021-05-19</td>\n",
       "      <td>France</td>\n",
       "      <td>2021-05-20 04:21:05</td>\n",
       "      <td>5863138.0</td>\n",
       "      <td>107390.0</td>\n",
       "      <td>324444.0</td>\n",
       "    </tr>\n",
       "    <tr>\n",
       "      <th>297303</th>\n",
       "      <td>2021-05-18</td>\n",
       "      <td>France</td>\n",
       "      <td>2021-05-19 04:20:42</td>\n",
       "      <td>5845010.0</td>\n",
       "      <td>107256.0</td>\n",
       "      <td>323205.0</td>\n",
       "    </tr>\n",
       "    <tr>\n",
       "      <th>296538</th>\n",
       "      <td>2021-05-17</td>\n",
       "      <td>France</td>\n",
       "      <td>2021-05-18 04:20:33</td>\n",
       "      <td>5829009.0</td>\n",
       "      <td>107041.0</td>\n",
       "      <td>321874.0</td>\n",
       "    </tr>\n",
       "    <tr>\n",
       "      <th>295773</th>\n",
       "      <td>2021-05-16</td>\n",
       "      <td>France</td>\n",
       "      <td>2021-05-17 04:20:34</td>\n",
       "      <td>5825659.0</td>\n",
       "      <td>106845.0</td>\n",
       "      <td>321026.0</td>\n",
       "    </tr>\n",
       "    <tr>\n",
       "      <th>295008</th>\n",
       "      <td>2021-05-15</td>\n",
       "      <td>France</td>\n",
       "      <td>2021-05-16 04:20:49</td>\n",
       "      <td>5811711.0</td>\n",
       "      <td>106764.0</td>\n",
       "      <td>320711.0</td>\n",
       "    </tr>\n",
       "  </tbody>\n",
       "</table>\n",
       "</div>"
      ],
      "text/plain": [
       "       ObservationDate Country/Region          Last Update  Confirmed  \\\n",
       "298068      2021-05-19         France  2021-05-20 04:21:05  5863138.0   \n",
       "297303      2021-05-18         France  2021-05-19 04:20:42  5845010.0   \n",
       "296538      2021-05-17         France  2021-05-18 04:20:33  5829009.0   \n",
       "295773      2021-05-16         France  2021-05-17 04:20:34  5825659.0   \n",
       "295008      2021-05-15         France  2021-05-16 04:20:49  5811711.0   \n",
       "\n",
       "          Deaths  Recovered  \n",
       "298068  107390.0   324444.0  \n",
       "297303  107256.0   323205.0  \n",
       "296538  107041.0   321874.0  \n",
       "295773  106845.0   321026.0  \n",
       "295008  106764.0   320711.0  "
      ]
     },
     "execution_count": 18,
     "metadata": {},
     "output_type": "execute_result"
    }
   ],
   "source": [
    "daily_data=covid_data.drop('Province/State',axis=1)\n",
    "daily_data.sort_values(['Confirmed'],ascending=False).head()"
   ]
  },
  {
   "cell_type": "markdown",
   "metadata": {},
   "source": [
    "The Most number of confirmed cases was reported on 19th May 2021 in France"
   ]
  },
  {
   "cell_type": "code",
   "execution_count": 19,
   "metadata": {},
   "outputs": [
    {
     "data": {
      "text/html": [
       "<div>\n",
       "<style scoped>\n",
       "    .dataframe tbody tr th:only-of-type {\n",
       "        vertical-align: middle;\n",
       "    }\n",
       "\n",
       "    .dataframe tbody tr th {\n",
       "        vertical-align: top;\n",
       "    }\n",
       "\n",
       "    .dataframe thead th {\n",
       "        text-align: right;\n",
       "    }\n",
       "</style>\n",
       "<table border=\"1\" class=\"dataframe\">\n",
       "  <thead>\n",
       "    <tr style=\"text-align: right;\">\n",
       "      <th></th>\n",
       "      <th>ObservationDate</th>\n",
       "      <th>Country/Region</th>\n",
       "      <th>Last Update</th>\n",
       "      <th>Confirmed</th>\n",
       "      <th>Deaths</th>\n",
       "      <th>Recovered</th>\n",
       "    </tr>\n",
       "  </thead>\n",
       "  <tbody>\n",
       "    <tr>\n",
       "      <th>305972</th>\n",
       "      <td>2021-05-29</td>\n",
       "      <td>UK</td>\n",
       "      <td>2021-05-30 04:20:55</td>\n",
       "      <td>3910803.0</td>\n",
       "      <td>112385.0</td>\n",
       "      <td>0.0</td>\n",
       "    </tr>\n",
       "    <tr>\n",
       "      <th>305207</th>\n",
       "      <td>2021-05-28</td>\n",
       "      <td>UK</td>\n",
       "      <td>2021-05-29 04:20:41</td>\n",
       "      <td>3908214.0</td>\n",
       "      <td>112379.0</td>\n",
       "      <td>0.0</td>\n",
       "    </tr>\n",
       "    <tr>\n",
       "      <th>304442</th>\n",
       "      <td>2021-05-27</td>\n",
       "      <td>UK</td>\n",
       "      <td>2021-05-28 04:20:36</td>\n",
       "      <td>3904934.0</td>\n",
       "      <td>112371.0</td>\n",
       "      <td>0.0</td>\n",
       "    </tr>\n",
       "    <tr>\n",
       "      <th>303677</th>\n",
       "      <td>2021-05-26</td>\n",
       "      <td>UK</td>\n",
       "      <td>2021-05-27 04:20:59</td>\n",
       "      <td>3902160.0</td>\n",
       "      <td>112363.0</td>\n",
       "      <td>0.0</td>\n",
       "    </tr>\n",
       "    <tr>\n",
       "      <th>302912</th>\n",
       "      <td>2021-05-25</td>\n",
       "      <td>UK</td>\n",
       "      <td>2021-05-26 04:20:35</td>\n",
       "      <td>3899813.0</td>\n",
       "      <td>112355.0</td>\n",
       "      <td>0.0</td>\n",
       "    </tr>\n",
       "  </tbody>\n",
       "</table>\n",
       "</div>"
      ],
      "text/plain": [
       "       ObservationDate Country/Region          Last Update  Confirmed  \\\n",
       "305972      2021-05-29             UK  2021-05-30 04:20:55  3910803.0   \n",
       "305207      2021-05-28             UK  2021-05-29 04:20:41  3908214.0   \n",
       "304442      2021-05-27             UK  2021-05-28 04:20:36  3904934.0   \n",
       "303677      2021-05-26             UK  2021-05-27 04:20:59  3902160.0   \n",
       "302912      2021-05-25             UK  2021-05-26 04:20:35  3899813.0   \n",
       "\n",
       "          Deaths  Recovered  \n",
       "305972  112385.0        0.0  \n",
       "305207  112379.0        0.0  \n",
       "304442  112371.0        0.0  \n",
       "303677  112363.0        0.0  \n",
       "302912  112355.0        0.0  "
      ]
     },
     "execution_count": 19,
     "metadata": {},
     "output_type": "execute_result"
    }
   ],
   "source": [
    "daily_data.sort_values(['Deaths'],ascending=False).head()"
   ]
  },
  {
   "cell_type": "markdown",
   "metadata": {},
   "source": [
    "The most number of deaths was reported on 29 th May 2021 in UK"
   ]
  },
  {
   "cell_type": "code",
   "execution_count": 20,
   "metadata": {},
   "outputs": [
    {
     "data": {
      "text/html": [
       "<div>\n",
       "<style scoped>\n",
       "    .dataframe tbody tr th:only-of-type {\n",
       "        vertical-align: middle;\n",
       "    }\n",
       "\n",
       "    .dataframe tbody tr th {\n",
       "        vertical-align: top;\n",
       "    }\n",
       "\n",
       "    .dataframe thead th {\n",
       "        text-align: right;\n",
       "    }\n",
       "</style>\n",
       "<table border=\"1\" class=\"dataframe\">\n",
       "  <thead>\n",
       "    <tr style=\"text-align: right;\">\n",
       "      <th></th>\n",
       "      <th>ObservationDate</th>\n",
       "      <th>Country/Region</th>\n",
       "      <th>Last Update</th>\n",
       "      <th>Confirmed</th>\n",
       "      <th>Deaths</th>\n",
       "      <th>Recovered</th>\n",
       "    </tr>\n",
       "  </thead>\n",
       "  <tbody>\n",
       "    <tr>\n",
       "      <th>179328</th>\n",
       "      <td>2020-12-14</td>\n",
       "      <td>US</td>\n",
       "      <td>2021-04-02 15:13:53</td>\n",
       "      <td>0.0</td>\n",
       "      <td>0.0</td>\n",
       "      <td>6399531.0</td>\n",
       "    </tr>\n",
       "    <tr>\n",
       "      <th>178565</th>\n",
       "      <td>2020-12-13</td>\n",
       "      <td>US</td>\n",
       "      <td>2021-04-02 15:13:53</td>\n",
       "      <td>0.0</td>\n",
       "      <td>0.0</td>\n",
       "      <td>6298082.0</td>\n",
       "    </tr>\n",
       "    <tr>\n",
       "      <th>177802</th>\n",
       "      <td>2020-12-12</td>\n",
       "      <td>US</td>\n",
       "      <td>2021-04-02 15:13:53</td>\n",
       "      <td>0.0</td>\n",
       "      <td>0.0</td>\n",
       "      <td>6246605.0</td>\n",
       "    </tr>\n",
       "    <tr>\n",
       "      <th>177039</th>\n",
       "      <td>2020-12-11</td>\n",
       "      <td>US</td>\n",
       "      <td>2021-04-02 15:13:53</td>\n",
       "      <td>0.0</td>\n",
       "      <td>0.0</td>\n",
       "      <td>6135314.0</td>\n",
       "    </tr>\n",
       "    <tr>\n",
       "      <th>176276</th>\n",
       "      <td>2020-12-10</td>\n",
       "      <td>US</td>\n",
       "      <td>2021-04-02 15:13:53</td>\n",
       "      <td>0.0</td>\n",
       "      <td>0.0</td>\n",
       "      <td>5985047.0</td>\n",
       "    </tr>\n",
       "  </tbody>\n",
       "</table>\n",
       "</div>"
      ],
      "text/plain": [
       "       ObservationDate Country/Region          Last Update  Confirmed  Deaths  \\\n",
       "179328      2020-12-14             US  2021-04-02 15:13:53        0.0     0.0   \n",
       "178565      2020-12-13             US  2021-04-02 15:13:53        0.0     0.0   \n",
       "177802      2020-12-12             US  2021-04-02 15:13:53        0.0     0.0   \n",
       "177039      2020-12-11             US  2021-04-02 15:13:53        0.0     0.0   \n",
       "176276      2020-12-10             US  2021-04-02 15:13:53        0.0     0.0   \n",
       "\n",
       "        Recovered  \n",
       "179328  6399531.0  \n",
       "178565  6298082.0  \n",
       "177802  6246605.0  \n",
       "177039  6135314.0  \n",
       "176276  5985047.0  "
      ]
     },
     "execution_count": 20,
     "metadata": {},
     "output_type": "execute_result"
    }
   ],
   "source": [
    "daily_data.sort_values(['Recovered'],ascending=False).head()"
   ]
  },
  {
   "cell_type": "markdown",
   "metadata": {},
   "source": [
    "The most number of Recovered patient was reported on 14th December 2021 in US"
   ]
  },
  {
   "cell_type": "code",
   "execution_count": 21,
   "metadata": {
    "scrolled": true
   },
   "outputs": [
    {
     "data": {
      "text/html": [
       "<div>\n",
       "<style scoped>\n",
       "    .dataframe tbody tr th:only-of-type {\n",
       "        vertical-align: middle;\n",
       "    }\n",
       "\n",
       "    .dataframe tbody tr th {\n",
       "        vertical-align: top;\n",
       "    }\n",
       "\n",
       "    .dataframe thead th {\n",
       "        text-align: right;\n",
       "    }\n",
       "</style>\n",
       "<table border=\"1\" class=\"dataframe\">\n",
       "  <thead>\n",
       "    <tr style=\"text-align: right;\">\n",
       "      <th></th>\n",
       "      <th>Confirmed</th>\n",
       "      <th>Deaths</th>\n",
       "      <th>Recovered</th>\n",
       "    </tr>\n",
       "    <tr>\n",
       "      <th>Country/Region</th>\n",
       "      <th></th>\n",
       "      <th></th>\n",
       "      <th></th>\n",
       "    </tr>\n",
       "  </thead>\n",
       "  <tbody>\n",
       "    <tr>\n",
       "      <th>Azerbaijan</th>\n",
       "      <td>1.0</td>\n",
       "      <td>0.0</td>\n",
       "      <td>0.0</td>\n",
       "    </tr>\n",
       "    <tr>\n",
       "      <th>('St. Martin',)</th>\n",
       "      <td>2.0</td>\n",
       "      <td>0.0</td>\n",
       "      <td>0.0</td>\n",
       "    </tr>\n",
       "    <tr>\n",
       "      <th>Afghanistan</th>\n",
       "      <td>17026442.0</td>\n",
       "      <td>669075.0</td>\n",
       "      <td>13464399.0</td>\n",
       "    </tr>\n",
       "    <tr>\n",
       "      <th>Albania</th>\n",
       "      <td>19768869.0</td>\n",
       "      <td>375955.0</td>\n",
       "      <td>13945256.0</td>\n",
       "    </tr>\n",
       "    <tr>\n",
       "      <th>Algeria</th>\n",
       "      <td>27684358.0</td>\n",
       "      <td>834464.0</td>\n",
       "      <td>18959299.0</td>\n",
       "    </tr>\n",
       "    <tr>\n",
       "      <th>Andorra</th>\n",
       "      <td>2379802.0</td>\n",
       "      <td>32100.0</td>\n",
       "      <td>2162473.0</td>\n",
       "    </tr>\n",
       "    <tr>\n",
       "      <th>Angola</th>\n",
       "      <td>4764863.0</td>\n",
       "      <td>116489.0</td>\n",
       "      <td>3683041.0</td>\n",
       "    </tr>\n",
       "    <tr>\n",
       "      <th>Antigua and Barbuda</th>\n",
       "      <td>143868.0</td>\n",
       "      <td>4059.0</td>\n",
       "      <td>109958.0</td>\n",
       "    </tr>\n",
       "    <tr>\n",
       "      <th>Argentina</th>\n",
       "      <td>504802880.0</td>\n",
       "      <td>12112441.0</td>\n",
       "      <td>438750295.0</td>\n",
       "    </tr>\n",
       "    <tr>\n",
       "      <th>Armenia</th>\n",
       "      <td>42536277.0</td>\n",
       "      <td>770759.0</td>\n",
       "      <td>37101575.0</td>\n",
       "    </tr>\n",
       "  </tbody>\n",
       "</table>\n",
       "</div>"
      ],
      "text/plain": [
       "                       Confirmed      Deaths    Recovered\n",
       "Country/Region                                           \n",
       " Azerbaijan                  1.0         0.0          0.0\n",
       "('St. Martin',)              2.0         0.0          0.0\n",
       "Afghanistan           17026442.0    669075.0   13464399.0\n",
       "Albania               19768869.0    375955.0   13945256.0\n",
       "Algeria               27684358.0    834464.0   18959299.0\n",
       "Andorra                2379802.0     32100.0    2162473.0\n",
       "Angola                 4764863.0    116489.0    3683041.0\n",
       "Antigua and Barbuda     143868.0      4059.0     109958.0\n",
       "Argentina            504802880.0  12112441.0  438750295.0\n",
       "Armenia               42536277.0    770759.0   37101575.0"
      ]
     },
     "execution_count": 21,
     "metadata": {},
     "output_type": "execute_result"
    }
   ],
   "source": [
    "country_wise_data=covid_data.groupby(['Country/Region']).sum()\n",
    "country_wise_data.head(10)"
   ]
  },
  {
   "cell_type": "code",
   "execution_count": 22,
   "metadata": {
    "scrolled": false
   },
   "outputs": [
    {
     "data": {
      "text/html": [
       "<div>\n",
       "<style scoped>\n",
       "    .dataframe tbody tr th:only-of-type {\n",
       "        vertical-align: middle;\n",
       "    }\n",
       "\n",
       "    .dataframe tbody tr th {\n",
       "        vertical-align: top;\n",
       "    }\n",
       "\n",
       "    .dataframe thead th {\n",
       "        text-align: right;\n",
       "    }\n",
       "</style>\n",
       "<table border=\"1\" class=\"dataframe\">\n",
       "  <thead>\n",
       "    <tr style=\"text-align: right;\">\n",
       "      <th></th>\n",
       "      <th>Confirmed</th>\n",
       "      <th>Deaths</th>\n",
       "      <th>Recovered</th>\n",
       "    </tr>\n",
       "    <tr>\n",
       "      <th>Country/Region</th>\n",
       "      <th></th>\n",
       "      <th></th>\n",
       "      <th></th>\n",
       "    </tr>\n",
       "  </thead>\n",
       "  <tbody>\n",
       "    <tr>\n",
       "      <th>US</th>\n",
       "      <td>6.049146e+09</td>\n",
       "      <td>123303762.0</td>\n",
       "      <td>5.033710e+08</td>\n",
       "    </tr>\n",
       "    <tr>\n",
       "      <th>India</th>\n",
       "      <td>3.226768e+09</td>\n",
       "      <td>44424723.0</td>\n",
       "      <td>2.900590e+09</td>\n",
       "    </tr>\n",
       "    <tr>\n",
       "      <th>Brazil</th>\n",
       "      <td>2.653588e+09</td>\n",
       "      <td>72624610.0</td>\n",
       "      <td>2.313677e+09</td>\n",
       "    </tr>\n",
       "    <tr>\n",
       "      <th>Russia</th>\n",
       "      <td>9.305488e+08</td>\n",
       "      <td>18363719.0</td>\n",
       "      <td>7.907057e+08</td>\n",
       "    </tr>\n",
       "    <tr>\n",
       "      <th>France</th>\n",
       "      <td>8.551890e+08</td>\n",
       "      <td>22720818.0</td>\n",
       "      <td>6.940743e+07</td>\n",
       "    </tr>\n",
       "  </tbody>\n",
       "</table>\n",
       "</div>"
      ],
      "text/plain": [
       "                   Confirmed       Deaths     Recovered\n",
       "Country/Region                                         \n",
       "US              6.049146e+09  123303762.0  5.033710e+08\n",
       "India           3.226768e+09   44424723.0  2.900590e+09\n",
       "Brazil          2.653588e+09   72624610.0  2.313677e+09\n",
       "Russia          9.305488e+08   18363719.0  7.907057e+08\n",
       "France          8.551890e+08   22720818.0  6.940743e+07"
      ]
     },
     "execution_count": 22,
     "metadata": {},
     "output_type": "execute_result"
    }
   ],
   "source": [
    "confirmed=country_wise_data.sort_values('Confirmed',ascending=False)\n",
    "confirmed.head()"
   ]
  },
  {
   "cell_type": "code",
   "execution_count": 23,
   "metadata": {
    "scrolled": true
   },
   "outputs": [
    {
     "data": {
      "image/png": "[encoded data removed]",
      "text/plain": [
       "<Figure size 432x288 with 1 Axes>"
      ]
     },
     "metadata": {
      "needs_background": "light"
     },
     "output_type": "display_data"
    }
   ],
   "source": [
    "sns.barplot(x=confirmed.index[:5],y=confirmed['Confirmed'][:5],color='green')\n",
    "plt.show()"
   ]
  },
  {
   "cell_type": "markdown",
   "metadata": {},
   "source": [
    "The countries such as US, India, Brazil, Russia and France were on the top 5 positions of total covid-19 confirmed cases."
   ]
  },
  {
   "cell_type": "code",
   "execution_count": 24,
   "metadata": {
    "scrolled": false
   },
   "outputs": [
    {
     "data": {
      "text/html": [
       "<div>\n",
       "<style scoped>\n",
       "    .dataframe tbody tr th:only-of-type {\n",
       "        vertical-align: middle;\n",
       "    }\n",
       "\n",
       "    .dataframe tbody tr th {\n",
       "        vertical-align: top;\n",
       "    }\n",
       "\n",
       "    .dataframe thead th {\n",
       "        text-align: right;\n",
       "    }\n",
       "</style>\n",
       "<table border=\"1\" class=\"dataframe\">\n",
       "  <thead>\n",
       "    <tr style=\"text-align: right;\">\n",
       "      <th></th>\n",
       "      <th>Confirmed</th>\n",
       "      <th>Deaths</th>\n",
       "      <th>Recovered</th>\n",
       "    </tr>\n",
       "    <tr>\n",
       "      <th>Country/Region</th>\n",
       "      <th></th>\n",
       "      <th></th>\n",
       "      <th></th>\n",
       "    </tr>\n",
       "  </thead>\n",
       "  <tbody>\n",
       "    <tr>\n",
       "      <th>US</th>\n",
       "      <td>6.049146e+09</td>\n",
       "      <td>123303762.0</td>\n",
       "      <td>5.033710e+08</td>\n",
       "    </tr>\n",
       "    <tr>\n",
       "      <th>Brazil</th>\n",
       "      <td>2.653588e+09</td>\n",
       "      <td>72624610.0</td>\n",
       "      <td>2.313677e+09</td>\n",
       "    </tr>\n",
       "    <tr>\n",
       "      <th>India</th>\n",
       "      <td>3.226768e+09</td>\n",
       "      <td>44424723.0</td>\n",
       "      <td>2.900590e+09</td>\n",
       "    </tr>\n",
       "    <tr>\n",
       "      <th>Mexico</th>\n",
       "      <td>4.604637e+08</td>\n",
       "      <td>43005509.0</td>\n",
       "      <td>3.617802e+08</td>\n",
       "    </tr>\n",
       "    <tr>\n",
       "      <th>UK</th>\n",
       "      <td>7.837944e+08</td>\n",
       "      <td>29171984.0</td>\n",
       "      <td>2.327572e+06</td>\n",
       "    </tr>\n",
       "  </tbody>\n",
       "</table>\n",
       "</div>"
      ],
      "text/plain": [
       "                   Confirmed       Deaths     Recovered\n",
       "Country/Region                                         \n",
       "US              6.049146e+09  123303762.0  5.033710e+08\n",
       "Brazil          2.653588e+09   72624610.0  2.313677e+09\n",
       "India           3.226768e+09   44424723.0  2.900590e+09\n",
       "Mexico          4.604637e+08   43005509.0  3.617802e+08\n",
       "UK              7.837944e+08   29171984.0  2.327572e+06"
      ]
     },
     "execution_count": 24,
     "metadata": {},
     "output_type": "execute_result"
    }
   ],
   "source": [
    "deaths=country_wise_data.sort_values('Deaths',ascending=False)\n",
    "deaths.head()"
   ]
  },
  {
   "cell_type": "code",
   "execution_count": 25,
   "metadata": {},
   "outputs": [
    {
     "data": {
      "image/png": "[encoded data removed]",
      "text/plain": [
       "<Figure size 432x288 with 1 Axes>"
      ]
     },
     "metadata": {
      "needs_background": "light"
     },
     "output_type": "display_data"
    }
   ],
   "source": [
    "sns.barplot(x=deaths.index[:5],y=deaths['Deaths'][:5],color='red')\n",
    "plt.show()"
   ]
  },
  {
   "cell_type": "markdown",
   "metadata": {},
   "source": [
    "The countries such as US, Brazil, India, Mexico and UK were on the top 5 positions of total covid-19 Deaths."
   ]
  },
  {
   "cell_type": "code",
   "execution_count": 26,
   "metadata": {
    "scrolled": true
   },
   "outputs": [
    {
     "data": {
      "text/html": [
       "<div>\n",
       "<style scoped>\n",
       "    .dataframe tbody tr th:only-of-type {\n",
       "        vertical-align: middle;\n",
       "    }\n",
       "\n",
       "    .dataframe tbody tr th {\n",
       "        vertical-align: top;\n",
       "    }\n",
       "\n",
       "    .dataframe thead th {\n",
       "        text-align: right;\n",
       "    }\n",
       "</style>\n",
       "<table border=\"1\" class=\"dataframe\">\n",
       "  <thead>\n",
       "    <tr style=\"text-align: right;\">\n",
       "      <th></th>\n",
       "      <th>Confirmed</th>\n",
       "      <th>Deaths</th>\n",
       "      <th>Recovered</th>\n",
       "    </tr>\n",
       "    <tr>\n",
       "      <th>Country/Region</th>\n",
       "      <th></th>\n",
       "      <th></th>\n",
       "      <th></th>\n",
       "    </tr>\n",
       "  </thead>\n",
       "  <tbody>\n",
       "    <tr>\n",
       "      <th>India</th>\n",
       "      <td>3.226768e+09</td>\n",
       "      <td>44424723.0</td>\n",
       "      <td>2.900590e+09</td>\n",
       "    </tr>\n",
       "    <tr>\n",
       "      <th>Brazil</th>\n",
       "      <td>2.653588e+09</td>\n",
       "      <td>72624610.0</td>\n",
       "      <td>2.313677e+09</td>\n",
       "    </tr>\n",
       "    <tr>\n",
       "      <th>Russia</th>\n",
       "      <td>9.305488e+08</td>\n",
       "      <td>18363719.0</td>\n",
       "      <td>7.907057e+08</td>\n",
       "    </tr>\n",
       "    <tr>\n",
       "      <th>Turkey</th>\n",
       "      <td>6.189410e+08</td>\n",
       "      <td>6841158.0</td>\n",
       "      <td>5.641706e+08</td>\n",
       "    </tr>\n",
       "    <tr>\n",
       "      <th>US</th>\n",
       "      <td>6.049146e+09</td>\n",
       "      <td>123303762.0</td>\n",
       "      <td>5.033710e+08</td>\n",
       "    </tr>\n",
       "  </tbody>\n",
       "</table>\n",
       "</div>"
      ],
      "text/plain": [
       "                   Confirmed       Deaths     Recovered\n",
       "Country/Region                                         \n",
       "India           3.226768e+09   44424723.0  2.900590e+09\n",
       "Brazil          2.653588e+09   72624610.0  2.313677e+09\n",
       "Russia          9.305488e+08   18363719.0  7.907057e+08\n",
       "Turkey          6.189410e+08    6841158.0  5.641706e+08\n",
       "US              6.049146e+09  123303762.0  5.033710e+08"
      ]
     },
     "execution_count": 26,
     "metadata": {},
     "output_type": "execute_result"
    }
   ],
   "source": [
    "recover=country_wise_data.sort_values('Recovered',ascending=False).head()\n",
    "recover"
   ]
  },
  {
   "cell_type": "code",
   "execution_count": 27,
   "metadata": {},
   "outputs": [
    {
     "data": {
      "image/png": "[encoded data removed]",
      "text/plain": [
       "<Figure size 432x288 with 1 Axes>"
      ]
     },
     "metadata": {
      "needs_background": "light"
     },
     "output_type": "display_data"
    }
   ],
   "source": [
    "sns.barplot(x=recover.index,y=recover['Recovered'],color='blue')\n",
    "plt.show()"
   ]
  },
  {
   "cell_type": "markdown",
   "metadata": {},
   "source": [
    "The countries such as India, Brazil, Russia, Turkey and US were on the top 5 positions of total covid-19 recovery."
   ]
  },
  {
   "cell_type": "code",
   "execution_count": 28,
   "metadata": {},
   "outputs": [
    {
     "data": {
      "text/html": [
       "<div>\n",
       "<style scoped>\n",
       "    .dataframe tbody tr th:only-of-type {\n",
       "        vertical-align: middle;\n",
       "    }\n",
       "\n",
       "    .dataframe tbody tr th {\n",
       "        vertical-align: top;\n",
       "    }\n",
       "\n",
       "    .dataframe thead th {\n",
       "        text-align: right;\n",
       "    }\n",
       "</style>\n",
       "<table border=\"1\" class=\"dataframe\">\n",
       "  <thead>\n",
       "    <tr style=\"text-align: right;\">\n",
       "      <th></th>\n",
       "      <th>Confirmed</th>\n",
       "      <th>Deaths</th>\n",
       "      <th>Recovered</th>\n",
       "    </tr>\n",
       "  </thead>\n",
       "  <tbody>\n",
       "    <tr>\n",
       "      <th>Confirmed</th>\n",
       "      <td>1.000000</td>\n",
       "      <td>0.888416</td>\n",
       "      <td>0.633479</td>\n",
       "    </tr>\n",
       "    <tr>\n",
       "      <th>Deaths</th>\n",
       "      <td>0.888416</td>\n",
       "      <td>1.000000</td>\n",
       "      <td>0.538416</td>\n",
       "    </tr>\n",
       "    <tr>\n",
       "      <th>Recovered</th>\n",
       "      <td>0.633479</td>\n",
       "      <td>0.538416</td>\n",
       "      <td>1.000000</td>\n",
       "    </tr>\n",
       "  </tbody>\n",
       "</table>\n",
       "</div>"
      ],
      "text/plain": [
       "           Confirmed    Deaths  Recovered\n",
       "Confirmed   1.000000  0.888416   0.633479\n",
       "Deaths      0.888416  1.000000   0.538416\n",
       "Recovered   0.633479  0.538416   1.000000"
      ]
     },
     "execution_count": 28,
     "metadata": {},
     "output_type": "execute_result"
    }
   ],
   "source": [
    "covid_data.corr()"
   ]
  },
  {
   "cell_type": "code",
   "execution_count": 29,
   "metadata": {},
   "outputs": [
    {
     "data": {
      "image/png": "[encoded data removed]",
      "text/plain": [
       "<Figure size 432x432 with 2 Axes>"
      ]
     },
     "metadata": {
      "needs_background": "light"
     },
     "output_type": "display_data"
    }
   ],
   "source": [
    "plt.figure(figsize=(6,6))\n",
    "sns.heatmap(covid_data.corr(),annot=True)\n",
    "plt.show()"
   ]
  },
  {
   "cell_type": "markdown",
   "metadata": {},
   "source": [
    "In world wide, the relationship between confirmed cases and Death is 0.89. So it indicating that increase of confirmed  cases will increasing chance of deaths. But at the same time relationship between Confirmed and Recovered was only 0.63. "
   ]
  },
  {
   "cell_type": "markdown",
   "metadata": {},
   "source": [
    "<h1 style=\"text-align:center\">COVID 19 in India</h1>"
   ]
  },
  {
   "cell_type": "code",
   "execution_count": 32,
   "metadata": {
    "scrolled": true
   },
   "outputs": [
    {
     "data": {
      "text/plain": [
       "Confirmed    3.226768e+09\n",
       "Deaths       4.442472e+07\n",
       "Recovered    2.900590e+09\n",
       "Name: India, dtype: float64"
      ]
     },
     "execution_count": 32,
     "metadata": {},
     "output_type": "execute_result"
    }
   ],
   "source": [
    "country_wise_data.loc['India']"
   ]
  },
  {
   "cell_type": "code",
   "execution_count": 33,
   "metadata": {
    "scrolled": true
   },
   "outputs": [
    {
     "data": {
      "text/html": [
       "<div>\n",
       "<style scoped>\n",
       "    .dataframe tbody tr th:only-of-type {\n",
       "        vertical-align: middle;\n",
       "    }\n",
       "\n",
       "    .dataframe tbody tr th {\n",
       "        vertical-align: top;\n",
       "    }\n",
       "\n",
       "    .dataframe thead th {\n",
       "        text-align: right;\n",
       "    }\n",
       "</style>\n",
       "<table border=\"1\" class=\"dataframe\">\n",
       "  <thead>\n",
       "    <tr style=\"text-align: right;\">\n",
       "      <th></th>\n",
       "      <th>ObservationDate</th>\n",
       "      <th>Province/State</th>\n",
       "      <th>Country/Region</th>\n",
       "      <th>Last Update</th>\n",
       "      <th>Confirmed</th>\n",
       "      <th>Deaths</th>\n",
       "      <th>Recovered</th>\n",
       "    </tr>\n",
       "  </thead>\n",
       "  <tbody>\n",
       "    <tr>\n",
       "      <th>446</th>\n",
       "      <td>2020-01-30</td>\n",
       "      <td>Not Available</td>\n",
       "      <td>India</td>\n",
       "      <td>1/30/20 16:00</td>\n",
       "      <td>1.0</td>\n",
       "      <td>0.0</td>\n",
       "      <td>0.0</td>\n",
       "    </tr>\n",
       "    <tr>\n",
       "      <th>509</th>\n",
       "      <td>2020-01-31</td>\n",
       "      <td>Not Available</td>\n",
       "      <td>India</td>\n",
       "      <td>1/31/2020 23:59</td>\n",
       "      <td>1.0</td>\n",
       "      <td>0.0</td>\n",
       "      <td>0.0</td>\n",
       "    </tr>\n",
       "    <tr>\n",
       "      <th>567</th>\n",
       "      <td>2020-02-01</td>\n",
       "      <td>Not Available</td>\n",
       "      <td>India</td>\n",
       "      <td>1/31/2020 8:15</td>\n",
       "      <td>1.0</td>\n",
       "      <td>0.0</td>\n",
       "      <td>0.0</td>\n",
       "    </tr>\n",
       "    <tr>\n",
       "      <th>629</th>\n",
       "      <td>2020-02-02</td>\n",
       "      <td>Not Available</td>\n",
       "      <td>India</td>\n",
       "      <td>2020-02-02T06:03:08</td>\n",
       "      <td>2.0</td>\n",
       "      <td>0.0</td>\n",
       "      <td>0.0</td>\n",
       "    </tr>\n",
       "    <tr>\n",
       "      <th>696</th>\n",
       "      <td>2020-02-03</td>\n",
       "      <td>Not Available</td>\n",
       "      <td>India</td>\n",
       "      <td>2020-02-03T21:43:02</td>\n",
       "      <td>3.0</td>\n",
       "      <td>0.0</td>\n",
       "      <td>0.0</td>\n",
       "    </tr>\n",
       "    <tr>\n",
       "      <th>766</th>\n",
       "      <td>2020-02-04</td>\n",
       "      <td>Not Available</td>\n",
       "      <td>India</td>\n",
       "      <td>2020-02-03T21:43:02</td>\n",
       "      <td>3.0</td>\n",
       "      <td>0.0</td>\n",
       "      <td>0.0</td>\n",
       "    </tr>\n",
       "    <tr>\n",
       "      <th>838</th>\n",
       "      <td>2020-02-05</td>\n",
       "      <td>Not Available</td>\n",
       "      <td>India</td>\n",
       "      <td>2020-02-03T21:43:02</td>\n",
       "      <td>3.0</td>\n",
       "      <td>0.0</td>\n",
       "      <td>0.0</td>\n",
       "    </tr>\n",
       "    <tr>\n",
       "      <th>911</th>\n",
       "      <td>2020-02-06</td>\n",
       "      <td>Not Available</td>\n",
       "      <td>India</td>\n",
       "      <td>2020-02-03T21:43:02</td>\n",
       "      <td>3.0</td>\n",
       "      <td>0.0</td>\n",
       "      <td>0.0</td>\n",
       "    </tr>\n",
       "    <tr>\n",
       "      <th>986</th>\n",
       "      <td>2020-02-07</td>\n",
       "      <td>Not Available</td>\n",
       "      <td>India</td>\n",
       "      <td>2020-02-03T21:43:02</td>\n",
       "      <td>3.0</td>\n",
       "      <td>0.0</td>\n",
       "      <td>0.0</td>\n",
       "    </tr>\n",
       "    <tr>\n",
       "      <th>1060</th>\n",
       "      <td>2020-02-08</td>\n",
       "      <td>Not Available</td>\n",
       "      <td>India</td>\n",
       "      <td>2020-02-03T21:43:02</td>\n",
       "      <td>3.0</td>\n",
       "      <td>0.0</td>\n",
       "      <td>0.0</td>\n",
       "    </tr>\n",
       "  </tbody>\n",
       "</table>\n",
       "</div>"
      ],
      "text/plain": [
       "     ObservationDate Province/State Country/Region          Last Update  \\\n",
       "446       2020-01-30  Not Available          India        1/30/20 16:00   \n",
       "509       2020-01-31  Not Available          India      1/31/2020 23:59   \n",
       "567       2020-02-01  Not Available          India       1/31/2020 8:15   \n",
       "629       2020-02-02  Not Available          India  2020-02-02T06:03:08   \n",
       "696       2020-02-03  Not Available          India  2020-02-03T21:43:02   \n",
       "766       2020-02-04  Not Available          India  2020-02-03T21:43:02   \n",
       "838       2020-02-05  Not Available          India  2020-02-03T21:43:02   \n",
       "911       2020-02-06  Not Available          India  2020-02-03T21:43:02   \n",
       "986       2020-02-07  Not Available          India  2020-02-03T21:43:02   \n",
       "1060      2020-02-08  Not Available          India  2020-02-03T21:43:02   \n",
       "\n",
       "      Confirmed  Deaths  Recovered  \n",
       "446         1.0     0.0        0.0  \n",
       "509         1.0     0.0        0.0  \n",
       "567         1.0     0.0        0.0  \n",
       "629         2.0     0.0        0.0  \n",
       "696         3.0     0.0        0.0  \n",
       "766         3.0     0.0        0.0  \n",
       "838         3.0     0.0        0.0  \n",
       "911         3.0     0.0        0.0  \n",
       "986         3.0     0.0        0.0  \n",
       "1060        3.0     0.0        0.0  "
      ]
     },
     "execution_count": 33,
     "metadata": {},
     "output_type": "execute_result"
    }
   ],
   "source": [
    "india_data=covid_data[covid_data['Country/Region']=='India']\n",
    "india_data.head(n=10)"
   ]
  },
  {
   "cell_type": "markdown",
   "metadata": {},
   "source": [
    "The first case in India was reported on 30th January 2020"
   ]
  },
  {
   "cell_type": "code",
   "execution_count": 34,
   "metadata": {
    "scrolled": false
   },
   "outputs": [
    {
     "data": {
      "text/html": [
       "<div>\n",
       "<style scoped>\n",
       "    .dataframe tbody tr th:only-of-type {\n",
       "        vertical-align: middle;\n",
       "    }\n",
       "\n",
       "    .dataframe tbody tr th {\n",
       "        vertical-align: top;\n",
       "    }\n",
       "\n",
       "    .dataframe thead th {\n",
       "        text-align: right;\n",
       "    }\n",
       "</style>\n",
       "<table border=\"1\" class=\"dataframe\">\n",
       "  <thead>\n",
       "    <tr style=\"text-align: right;\">\n",
       "      <th></th>\n",
       "      <th>ObservationDate</th>\n",
       "      <th>Province/State</th>\n",
       "      <th>Country/Region</th>\n",
       "      <th>Last Update</th>\n",
       "      <th>Confirmed</th>\n",
       "      <th>Deaths</th>\n",
       "      <th>Recovered</th>\n",
       "    </tr>\n",
       "  </thead>\n",
       "  <tbody>\n",
       "    <tr>\n",
       "      <th>446</th>\n",
       "      <td>2020-01-30</td>\n",
       "      <td>Not Available</td>\n",
       "      <td>India</td>\n",
       "      <td>1/30/20 16:00</td>\n",
       "      <td>1.0</td>\n",
       "      <td>0.0</td>\n",
       "      <td>0.0</td>\n",
       "    </tr>\n",
       "    <tr>\n",
       "      <th>509</th>\n",
       "      <td>2020-01-31</td>\n",
       "      <td>Not Available</td>\n",
       "      <td>India</td>\n",
       "      <td>1/31/2020 23:59</td>\n",
       "      <td>1.0</td>\n",
       "      <td>0.0</td>\n",
       "      <td>0.0</td>\n",
       "    </tr>\n",
       "    <tr>\n",
       "      <th>567</th>\n",
       "      <td>2020-02-01</td>\n",
       "      <td>Not Available</td>\n",
       "      <td>India</td>\n",
       "      <td>1/31/2020 8:15</td>\n",
       "      <td>1.0</td>\n",
       "      <td>0.0</td>\n",
       "      <td>0.0</td>\n",
       "    </tr>\n",
       "    <tr>\n",
       "      <th>629</th>\n",
       "      <td>2020-02-02</td>\n",
       "      <td>Not Available</td>\n",
       "      <td>India</td>\n",
       "      <td>2020-02-02T06:03:08</td>\n",
       "      <td>2.0</td>\n",
       "      <td>0.0</td>\n",
       "      <td>0.0</td>\n",
       "    </tr>\n",
       "    <tr>\n",
       "      <th>696</th>\n",
       "      <td>2020-02-03</td>\n",
       "      <td>Not Available</td>\n",
       "      <td>India</td>\n",
       "      <td>2020-02-03T21:43:02</td>\n",
       "      <td>3.0</td>\n",
       "      <td>0.0</td>\n",
       "      <td>0.0</td>\n",
       "    </tr>\n",
       "    <tr>\n",
       "      <th>...</th>\n",
       "      <td>...</td>\n",
       "      <td>...</td>\n",
       "      <td>...</td>\n",
       "      <td>...</td>\n",
       "      <td>...</td>\n",
       "      <td>...</td>\n",
       "      <td>...</td>\n",
       "    </tr>\n",
       "    <tr>\n",
       "      <th>306334</th>\n",
       "      <td>2021-05-29</td>\n",
       "      <td>Telangana</td>\n",
       "      <td>India</td>\n",
       "      <td>2021-05-30 04:20:55</td>\n",
       "      <td>574026.0</td>\n",
       "      <td>3247.0</td>\n",
       "      <td>533862.0</td>\n",
       "    </tr>\n",
       "    <tr>\n",
       "      <th>306351</th>\n",
       "      <td>2021-05-29</td>\n",
       "      <td>Tripura</td>\n",
       "      <td>India</td>\n",
       "      <td>2021-05-30 04:20:55</td>\n",
       "      <td>50739.0</td>\n",
       "      <td>507.0</td>\n",
       "      <td>43190.0</td>\n",
       "    </tr>\n",
       "    <tr>\n",
       "      <th>306377</th>\n",
       "      <td>2021-05-29</td>\n",
       "      <td>Uttar Pradesh</td>\n",
       "      <td>India</td>\n",
       "      <td>2021-05-30 04:20:55</td>\n",
       "      <td>1688152.0</td>\n",
       "      <td>20208.0</td>\n",
       "      <td>1621743.0</td>\n",
       "    </tr>\n",
       "    <tr>\n",
       "      <th>306378</th>\n",
       "      <td>2021-05-29</td>\n",
       "      <td>Uttarakhand</td>\n",
       "      <td>India</td>\n",
       "      <td>2021-05-30 04:20:55</td>\n",
       "      <td>327112.0</td>\n",
       "      <td>6360.0</td>\n",
       "      <td>289642.0</td>\n",
       "    </tr>\n",
       "    <tr>\n",
       "      <th>306406</th>\n",
       "      <td>2021-05-29</td>\n",
       "      <td>West Bengal</td>\n",
       "      <td>India</td>\n",
       "      <td>2021-05-30 04:20:55</td>\n",
       "      <td>1354956.0</td>\n",
       "      <td>15268.0</td>\n",
       "      <td>1237290.0</td>\n",
       "    </tr>\n",
       "  </tbody>\n",
       "</table>\n",
       "<p>12828 rows × 7 columns</p>\n",
       "</div>"
      ],
      "text/plain": [
       "       ObservationDate Province/State Country/Region          Last Update  \\\n",
       "446         2020-01-30  Not Available          India        1/30/20 16:00   \n",
       "509         2020-01-31  Not Available          India      1/31/2020 23:59   \n",
       "567         2020-02-01  Not Available          India       1/31/2020 8:15   \n",
       "629         2020-02-02  Not Available          India  2020-02-02T06:03:08   \n",
       "696         2020-02-03  Not Available          India  2020-02-03T21:43:02   \n",
       "...                ...            ...            ...                  ...   \n",
       "306334      2021-05-29      Telangana          India  2021-05-30 04:20:55   \n",
       "306351      2021-05-29        Tripura          India  2021-05-30 04:20:55   \n",
       "306377      2021-05-29  Uttar Pradesh          India  2021-05-30 04:20:55   \n",
       "306378      2021-05-29    Uttarakhand          India  2021-05-30 04:20:55   \n",
       "306406      2021-05-29    West Bengal          India  2021-05-30 04:20:55   \n",
       "\n",
       "        Confirmed   Deaths  Recovered  \n",
       "446           1.0      0.0        0.0  \n",
       "509           1.0      0.0        0.0  \n",
       "567           1.0      0.0        0.0  \n",
       "629           2.0      0.0        0.0  \n",
       "696           3.0      0.0        0.0  \n",
       "...           ...      ...        ...  \n",
       "306334   574026.0   3247.0   533862.0  \n",
       "306351    50739.0    507.0    43190.0  \n",
       "306377  1688152.0  20208.0  1621743.0  \n",
       "306378   327112.0   6360.0   289642.0  \n",
       "306406  1354956.0  15268.0  1237290.0  \n",
       "\n",
       "[12828 rows x 7 columns]"
      ]
     },
     "execution_count": 34,
     "metadata": {},
     "output_type": "execute_result"
    }
   ],
   "source": [
    "india=india_data[india_data['Province/State']!='Unknown']\n",
    "india"
   ]
  },
  {
   "cell_type": "markdown",
   "metadata": {},
   "source": [
    "Removed the Not avaialable informations from Indian data"
   ]
  },
  {
   "cell_type": "code",
   "execution_count": 35,
   "metadata": {
    "scrolled": true
   },
   "outputs": [
    {
     "data": {
      "text/html": [
       "<div>\n",
       "<style scoped>\n",
       "    .dataframe tbody tr th:only-of-type {\n",
       "        vertical-align: middle;\n",
       "    }\n",
       "\n",
       "    .dataframe tbody tr th {\n",
       "        vertical-align: top;\n",
       "    }\n",
       "\n",
       "    .dataframe thead th {\n",
       "        text-align: right;\n",
       "    }\n",
       "</style>\n",
       "<table border=\"1\" class=\"dataframe\">\n",
       "  <thead>\n",
       "    <tr style=\"text-align: right;\">\n",
       "      <th></th>\n",
       "      <th>ObservationDate</th>\n",
       "      <th>Province/State</th>\n",
       "      <th>Country/Region</th>\n",
       "      <th>Last Update</th>\n",
       "      <th>Confirmed</th>\n",
       "      <th>Deaths</th>\n",
       "      <th>Recovered</th>\n",
       "    </tr>\n",
       "  </thead>\n",
       "  <tbody>\n",
       "    <tr>\n",
       "      <th>306127</th>\n",
       "      <td>2021-05-29</td>\n",
       "      <td>Maharashtra</td>\n",
       "      <td>India</td>\n",
       "      <td>2021-05-30 04:20:55</td>\n",
       "      <td>5713215.0</td>\n",
       "      <td>94030.0</td>\n",
       "      <td>5339838.0</td>\n",
       "    </tr>\n",
       "    <tr>\n",
       "      <th>305362</th>\n",
       "      <td>2021-05-28</td>\n",
       "      <td>Maharashtra</td>\n",
       "      <td>India</td>\n",
       "      <td>2021-05-29 04:20:41</td>\n",
       "      <td>5692920.0</td>\n",
       "      <td>93198.0</td>\n",
       "      <td>5307874.0</td>\n",
       "    </tr>\n",
       "    <tr>\n",
       "      <th>304597</th>\n",
       "      <td>2021-05-27</td>\n",
       "      <td>Maharashtra</td>\n",
       "      <td>India</td>\n",
       "      <td>2021-05-28 04:20:36</td>\n",
       "      <td>5672180.0</td>\n",
       "      <td>92225.0</td>\n",
       "      <td>5276203.0</td>\n",
       "    </tr>\n",
       "    <tr>\n",
       "      <th>303832</th>\n",
       "      <td>2021-05-26</td>\n",
       "      <td>Maharashtra</td>\n",
       "      <td>India</td>\n",
       "      <td>2021-05-27 04:20:59</td>\n",
       "      <td>5650907.0</td>\n",
       "      <td>91341.0</td>\n",
       "      <td>5241833.0</td>\n",
       "    </tr>\n",
       "    <tr>\n",
       "      <th>303067</th>\n",
       "      <td>2021-05-25</td>\n",
       "      <td>Maharashtra</td>\n",
       "      <td>India</td>\n",
       "      <td>2021-05-26 04:20:35</td>\n",
       "      <td>5626155.0</td>\n",
       "      <td>90349.0</td>\n",
       "      <td>5218768.0</td>\n",
       "    </tr>\n",
       "  </tbody>\n",
       "</table>\n",
       "</div>"
      ],
      "text/plain": [
       "       ObservationDate Province/State Country/Region          Last Update  \\\n",
       "306127      2021-05-29    Maharashtra          India  2021-05-30 04:20:55   \n",
       "305362      2021-05-28    Maharashtra          India  2021-05-29 04:20:41   \n",
       "304597      2021-05-27    Maharashtra          India  2021-05-28 04:20:36   \n",
       "303832      2021-05-26    Maharashtra          India  2021-05-27 04:20:59   \n",
       "303067      2021-05-25    Maharashtra          India  2021-05-26 04:20:35   \n",
       "\n",
       "        Confirmed   Deaths  Recovered  \n",
       "306127  5713215.0  94030.0  5339838.0  \n",
       "305362  5692920.0  93198.0  5307874.0  \n",
       "304597  5672180.0  92225.0  5276203.0  \n",
       "303832  5650907.0  91341.0  5241833.0  \n",
       "303067  5626155.0  90349.0  5218768.0  "
      ]
     },
     "execution_count": 35,
     "metadata": {},
     "output_type": "execute_result"
    }
   ],
   "source": [
    "india.sort_values('Confirmed',ascending=False).head()"
   ]
  },
  {
   "cell_type": "markdown",
   "metadata": {},
   "source": [
    "The most number of confirmed cases were reported on continues days from 25th to 29th days of May in 2021 in Maharashtra state."
   ]
  },
  {
   "cell_type": "code",
   "execution_count": 36,
   "metadata": {},
   "outputs": [
    {
     "data": {
      "text/html": [
       "<div>\n",
       "<style scoped>\n",
       "    .dataframe tbody tr th:only-of-type {\n",
       "        vertical-align: middle;\n",
       "    }\n",
       "\n",
       "    .dataframe tbody tr th {\n",
       "        vertical-align: top;\n",
       "    }\n",
       "\n",
       "    .dataframe thead th {\n",
       "        text-align: right;\n",
       "    }\n",
       "</style>\n",
       "<table border=\"1\" class=\"dataframe\">\n",
       "  <thead>\n",
       "    <tr style=\"text-align: right;\">\n",
       "      <th></th>\n",
       "      <th>ObservationDate</th>\n",
       "      <th>Province/State</th>\n",
       "      <th>Country/Region</th>\n",
       "      <th>Last Update</th>\n",
       "      <th>Confirmed</th>\n",
       "      <th>Deaths</th>\n",
       "      <th>Recovered</th>\n",
       "    </tr>\n",
       "  </thead>\n",
       "  <tbody>\n",
       "    <tr>\n",
       "      <th>306127</th>\n",
       "      <td>2021-05-29</td>\n",
       "      <td>Maharashtra</td>\n",
       "      <td>India</td>\n",
       "      <td>2021-05-30 04:20:55</td>\n",
       "      <td>5713215.0</td>\n",
       "      <td>94030.0</td>\n",
       "      <td>5339838.0</td>\n",
       "    </tr>\n",
       "    <tr>\n",
       "      <th>305362</th>\n",
       "      <td>2021-05-28</td>\n",
       "      <td>Maharashtra</td>\n",
       "      <td>India</td>\n",
       "      <td>2021-05-29 04:20:41</td>\n",
       "      <td>5692920.0</td>\n",
       "      <td>93198.0</td>\n",
       "      <td>5307874.0</td>\n",
       "    </tr>\n",
       "    <tr>\n",
       "      <th>304597</th>\n",
       "      <td>2021-05-27</td>\n",
       "      <td>Maharashtra</td>\n",
       "      <td>India</td>\n",
       "      <td>2021-05-28 04:20:36</td>\n",
       "      <td>5672180.0</td>\n",
       "      <td>92225.0</td>\n",
       "      <td>5276203.0</td>\n",
       "    </tr>\n",
       "    <tr>\n",
       "      <th>303832</th>\n",
       "      <td>2021-05-26</td>\n",
       "      <td>Maharashtra</td>\n",
       "      <td>India</td>\n",
       "      <td>2021-05-27 04:20:59</td>\n",
       "      <td>5650907.0</td>\n",
       "      <td>91341.0</td>\n",
       "      <td>5241833.0</td>\n",
       "    </tr>\n",
       "    <tr>\n",
       "      <th>303067</th>\n",
       "      <td>2021-05-25</td>\n",
       "      <td>Maharashtra</td>\n",
       "      <td>India</td>\n",
       "      <td>2021-05-26 04:20:35</td>\n",
       "      <td>5626155.0</td>\n",
       "      <td>90349.0</td>\n",
       "      <td>5218768.0</td>\n",
       "    </tr>\n",
       "  </tbody>\n",
       "</table>\n",
       "</div>"
      ],
      "text/plain": [
       "       ObservationDate Province/State Country/Region          Last Update  \\\n",
       "306127      2021-05-29    Maharashtra          India  2021-05-30 04:20:55   \n",
       "305362      2021-05-28    Maharashtra          India  2021-05-29 04:20:41   \n",
       "304597      2021-05-27    Maharashtra          India  2021-05-28 04:20:36   \n",
       "303832      2021-05-26    Maharashtra          India  2021-05-27 04:20:59   \n",
       "303067      2021-05-25    Maharashtra          India  2021-05-26 04:20:35   \n",
       "\n",
       "        Confirmed   Deaths  Recovered  \n",
       "306127  5713215.0  94030.0  5339838.0  \n",
       "305362  5692920.0  93198.0  5307874.0  \n",
       "304597  5672180.0  92225.0  5276203.0  \n",
       "303832  5650907.0  91341.0  5241833.0  \n",
       "303067  5626155.0  90349.0  5218768.0  "
      ]
     },
     "execution_count": 36,
     "metadata": {},
     "output_type": "execute_result"
    }
   ],
   "source": [
    "india.sort_values('Deaths',ascending=False).head()"
   ]
  },
  {
   "cell_type": "markdown",
   "metadata": {},
   "source": [
    "The most number of deaths were also reported on continues days from 25th to 29th days of May in 2021 in Maharashtra state."
   ]
  },
  {
   "cell_type": "code",
   "execution_count": 37,
   "metadata": {
    "scrolled": true
   },
   "outputs": [
    {
     "data": {
      "text/html": [
       "<div>\n",
       "<style scoped>\n",
       "    .dataframe tbody tr th:only-of-type {\n",
       "        vertical-align: middle;\n",
       "    }\n",
       "\n",
       "    .dataframe tbody tr th {\n",
       "        vertical-align: top;\n",
       "    }\n",
       "\n",
       "    .dataframe thead th {\n",
       "        text-align: right;\n",
       "    }\n",
       "</style>\n",
       "<table border=\"1\" class=\"dataframe\">\n",
       "  <thead>\n",
       "    <tr style=\"text-align: right;\">\n",
       "      <th></th>\n",
       "      <th>ObservationDate</th>\n",
       "      <th>Province/State</th>\n",
       "      <th>Country/Region</th>\n",
       "      <th>Last Update</th>\n",
       "      <th>Confirmed</th>\n",
       "      <th>Deaths</th>\n",
       "      <th>Recovered</th>\n",
       "    </tr>\n",
       "  </thead>\n",
       "  <tbody>\n",
       "    <tr>\n",
       "      <th>306127</th>\n",
       "      <td>2021-05-29</td>\n",
       "      <td>Maharashtra</td>\n",
       "      <td>India</td>\n",
       "      <td>2021-05-30 04:20:55</td>\n",
       "      <td>5713215.0</td>\n",
       "      <td>94030.0</td>\n",
       "      <td>5339838.0</td>\n",
       "    </tr>\n",
       "    <tr>\n",
       "      <th>305362</th>\n",
       "      <td>2021-05-28</td>\n",
       "      <td>Maharashtra</td>\n",
       "      <td>India</td>\n",
       "      <td>2021-05-29 04:20:41</td>\n",
       "      <td>5692920.0</td>\n",
       "      <td>93198.0</td>\n",
       "      <td>5307874.0</td>\n",
       "    </tr>\n",
       "    <tr>\n",
       "      <th>304597</th>\n",
       "      <td>2021-05-27</td>\n",
       "      <td>Maharashtra</td>\n",
       "      <td>India</td>\n",
       "      <td>2021-05-28 04:20:36</td>\n",
       "      <td>5672180.0</td>\n",
       "      <td>92225.0</td>\n",
       "      <td>5276203.0</td>\n",
       "    </tr>\n",
       "    <tr>\n",
       "      <th>303832</th>\n",
       "      <td>2021-05-26</td>\n",
       "      <td>Maharashtra</td>\n",
       "      <td>India</td>\n",
       "      <td>2021-05-27 04:20:59</td>\n",
       "      <td>5650907.0</td>\n",
       "      <td>91341.0</td>\n",
       "      <td>5241833.0</td>\n",
       "    </tr>\n",
       "    <tr>\n",
       "      <th>303067</th>\n",
       "      <td>2021-05-25</td>\n",
       "      <td>Maharashtra</td>\n",
       "      <td>India</td>\n",
       "      <td>2021-05-26 04:20:35</td>\n",
       "      <td>5626155.0</td>\n",
       "      <td>90349.0</td>\n",
       "      <td>5218768.0</td>\n",
       "    </tr>\n",
       "  </tbody>\n",
       "</table>\n",
       "</div>"
      ],
      "text/plain": [
       "       ObservationDate Province/State Country/Region          Last Update  \\\n",
       "306127      2021-05-29    Maharashtra          India  2021-05-30 04:20:55   \n",
       "305362      2021-05-28    Maharashtra          India  2021-05-29 04:20:41   \n",
       "304597      2021-05-27    Maharashtra          India  2021-05-28 04:20:36   \n",
       "303832      2021-05-26    Maharashtra          India  2021-05-27 04:20:59   \n",
       "303067      2021-05-25    Maharashtra          India  2021-05-26 04:20:35   \n",
       "\n",
       "        Confirmed   Deaths  Recovered  \n",
       "306127  5713215.0  94030.0  5339838.0  \n",
       "305362  5692920.0  93198.0  5307874.0  \n",
       "304597  5672180.0  92225.0  5276203.0  \n",
       "303832  5650907.0  91341.0  5241833.0  \n",
       "303067  5626155.0  90349.0  5218768.0  "
      ]
     },
     "execution_count": 37,
     "metadata": {},
     "output_type": "execute_result"
    }
   ],
   "source": [
    "india.sort_values('Recovered',ascending=False).head()"
   ]
  },
  {
   "cell_type": "markdown",
   "metadata": {},
   "source": [
    "The most number of recovered patients  were also reported on continues days from 25th to 29th days of May in 2021 in Maharashtra state."
   ]
  },
  {
   "cell_type": "code",
   "execution_count": 38,
   "metadata": {
    "scrolled": true
   },
   "outputs": [
    {
     "data": {
      "image/png": "[encoded data removed]",
      "text/plain": [
       "<Figure size 432x288 with 1 Axes>"
      ]
     },
     "metadata": {
      "needs_background": "light"
     },
     "output_type": "display_data"
    }
   ],
   "source": [
    "sns.kdeplot(india['Deaths'],color='#FF2442',shade=True)\n",
    "plt.show()"
   ]
  },
  {
   "cell_type": "markdown",
   "metadata": {},
   "source": [
    "In most of times,the  number of covid death per day occured in the range between 0 to 20000"
   ]
  },
  {
   "cell_type": "code",
   "execution_count": 39,
   "metadata": {},
   "outputs": [
    {
     "data": {
      "image/png": "[encoded data removed]",
      "text/plain": [
       "<Figure size 432x288 with 1 Axes>"
      ]
     },
     "metadata": {
      "needs_background": "light"
     },
     "output_type": "display_data"
    }
   ],
   "source": [
    "sns.kdeplot(india['Confirmed'],color='#3DB2FF',shade=True)\n",
    "plt.show()"
   ]
  },
  {
   "cell_type": "markdown",
   "metadata": {},
   "source": [
    "In most of times,the  number of confirmed cases per day occured in the range between 0 to 100000"
   ]
  },
  {
   "cell_type": "code",
   "execution_count": 40,
   "metadata": {
    "scrolled": true
   },
   "outputs": [
    {
     "data": {
      "image/png": "[encoded data removed]",
      "text/plain": [
       "<Figure size 432x288 with 1 Axes>"
      ]
     },
     "metadata": {
      "needs_background": "light"
     },
     "output_type": "display_data"
    }
   ],
   "source": [
    "sns.kdeplot(india['Recovered'],color='#184D47',shade=True)\n",
    "plt.show()"
   ]
  },
  {
   "cell_type": "markdown",
   "metadata": {},
   "source": [
    "In most of times,the  number of patients recovered per day occured in the range between 0 to 100000"
   ]
  },
  {
   "cell_type": "markdown",
   "metadata": {},
   "source": [
    "## State wise  covid informations in India "
   ]
  },
  {
   "cell_type": "code",
   "execution_count": 41,
   "metadata": {
    "scrolled": true
   },
   "outputs": [
    {
     "data": {
      "text/html": [
       "<div>\n",
       "<style scoped>\n",
       "    .dataframe tbody tr th:only-of-type {\n",
       "        vertical-align: middle;\n",
       "    }\n",
       "\n",
       "    .dataframe tbody tr th {\n",
       "        vertical-align: top;\n",
       "    }\n",
       "\n",
       "    .dataframe thead th {\n",
       "        text-align: right;\n",
       "    }\n",
       "</style>\n",
       "<table border=\"1\" class=\"dataframe\">\n",
       "  <thead>\n",
       "    <tr style=\"text-align: right;\">\n",
       "      <th></th>\n",
       "      <th>Confirmed</th>\n",
       "      <th>Deaths</th>\n",
       "      <th>Recovered</th>\n",
       "    </tr>\n",
       "    <tr>\n",
       "      <th>Province/State</th>\n",
       "      <th></th>\n",
       "      <th></th>\n",
       "      <th></th>\n",
       "    </tr>\n",
       "  </thead>\n",
       "  <tbody>\n",
       "    <tr>\n",
       "      <th>Andaman and Nicobar Islands</th>\n",
       "      <td>1395784.0</td>\n",
       "      <td>17867.0</td>\n",
       "      <td>1319037.0</td>\n",
       "    </tr>\n",
       "    <tr>\n",
       "      <th>Andhra Pradesh</th>\n",
       "      <td>254740494.0</td>\n",
       "      <td>2013926.0</td>\n",
       "      <td>237562013.0</td>\n",
       "    </tr>\n",
       "    <tr>\n",
       "      <th>Arunachal Pradesh</th>\n",
       "      <td>4363201.0</td>\n",
       "      <td>13602.0</td>\n",
       "      <td>4037123.0</td>\n",
       "    </tr>\n",
       "    <tr>\n",
       "      <th>Assam</th>\n",
       "      <td>62475956.0</td>\n",
       "      <td>304170.0</td>\n",
       "      <td>57704484.0</td>\n",
       "    </tr>\n",
       "    <tr>\n",
       "      <th>Bihar</th>\n",
       "      <td>80951413.0</td>\n",
       "      <td>454187.0</td>\n",
       "      <td>74751758.0</td>\n",
       "    </tr>\n",
       "    <tr>\n",
       "      <th>Chandigarh</th>\n",
       "      <td>6357766.0</td>\n",
       "      <td>89132.0</td>\n",
       "      <td>5701850.0</td>\n",
       "    </tr>\n",
       "    <tr>\n",
       "      <th>Chhattisgarh</th>\n",
       "      <td>91207882.0</td>\n",
       "      <td>1084634.0</td>\n",
       "      <td>80678518.0</td>\n",
       "    </tr>\n",
       "    <tr>\n",
       "      <th>Dadar Nagar Haveli</th>\n",
       "      <td>22.0</td>\n",
       "      <td>0.0</td>\n",
       "      <td>2.0</td>\n",
       "    </tr>\n",
       "    <tr>\n",
       "      <th>Dadra and Nagar Haveli and Daman and Diu</th>\n",
       "      <td>1189327.0</td>\n",
       "      <td>729.0</td>\n",
       "      <td>1097315.0</td>\n",
       "    </tr>\n",
       "    <tr>\n",
       "      <th>Delhi</th>\n",
       "      <td>181975872.0</td>\n",
       "      <td>3111860.0</td>\n",
       "      <td>170506773.0</td>\n",
       "    </tr>\n",
       "  </tbody>\n",
       "</table>\n",
       "</div>"
      ],
      "text/plain": [
       "                                            Confirmed     Deaths    Recovered\n",
       "Province/State                                                               \n",
       "Andaman and Nicobar Islands                 1395784.0    17867.0    1319037.0\n",
       "Andhra Pradesh                            254740494.0  2013926.0  237562013.0\n",
       "Arunachal Pradesh                           4363201.0    13602.0    4037123.0\n",
       "Assam                                      62475956.0   304170.0   57704484.0\n",
       "Bihar                                      80951413.0   454187.0   74751758.0\n",
       "Chandigarh                                  6357766.0    89132.0    5701850.0\n",
       "Chhattisgarh                               91207882.0  1084634.0   80678518.0\n",
       "Dadar Nagar Haveli                               22.0        0.0          2.0\n",
       "Dadra and Nagar Haveli and Daman and Diu    1189327.0      729.0    1097315.0\n",
       "Delhi                                     181975872.0  3111860.0  170506773.0"
      ]
     },
     "execution_count": 41,
     "metadata": {},
     "output_type": "execute_result"
    }
   ],
   "source": [
    "states=india.groupby(['Province/State']).sum()\n",
    "states.head(n=10)"
   ]
  },
  {
   "cell_type": "code",
   "execution_count": 42,
   "metadata": {
    "scrolled": true
   },
   "outputs": [
    {
     "data": {
      "text/html": [
       "<div>\n",
       "<style scoped>\n",
       "    .dataframe tbody tr th:only-of-type {\n",
       "        vertical-align: middle;\n",
       "    }\n",
       "\n",
       "    .dataframe tbody tr th {\n",
       "        vertical-align: top;\n",
       "    }\n",
       "\n",
       "    .dataframe thead th {\n",
       "        text-align: right;\n",
       "    }\n",
       "</style>\n",
       "<table border=\"1\" class=\"dataframe\">\n",
       "  <thead>\n",
       "    <tr style=\"text-align: right;\">\n",
       "      <th></th>\n",
       "      <th>Confirmed</th>\n",
       "      <th>Deaths</th>\n",
       "      <th>Recovered</th>\n",
       "    </tr>\n",
       "  </thead>\n",
       "  <tbody>\n",
       "    <tr>\n",
       "      <th>Confirmed</th>\n",
       "      <td>1.000000</td>\n",
       "      <td>0.931780</td>\n",
       "      <td>0.999594</td>\n",
       "    </tr>\n",
       "    <tr>\n",
       "      <th>Deaths</th>\n",
       "      <td>0.931780</td>\n",
       "      <td>1.000000</td>\n",
       "      <td>0.926263</td>\n",
       "    </tr>\n",
       "    <tr>\n",
       "      <th>Recovered</th>\n",
       "      <td>0.999594</td>\n",
       "      <td>0.926263</td>\n",
       "      <td>1.000000</td>\n",
       "    </tr>\n",
       "  </tbody>\n",
       "</table>\n",
       "</div>"
      ],
      "text/plain": [
       "           Confirmed    Deaths  Recovered\n",
       "Confirmed   1.000000  0.931780   0.999594\n",
       "Deaths      0.931780  1.000000   0.926263\n",
       "Recovered   0.999594  0.926263   1.000000"
      ]
     },
     "execution_count": 42,
     "metadata": {},
     "output_type": "execute_result"
    }
   ],
   "source": [
    "states.corr()"
   ]
  },
  {
   "cell_type": "code",
   "execution_count": 43,
   "metadata": {},
   "outputs": [
    {
     "data": {
      "image/png": "[encoded data removed]",
      "text/plain": [
       "<Figure size 432x288 with 2 Axes>"
      ]
     },
     "metadata": {
      "needs_background": "light"
     },
     "output_type": "display_data"
    }
   ],
   "source": [
    "sns.heatmap(states.corr(),annot=True)\n",
    "plt.show()"
   ]
  },
  {
   "cell_type": "markdown",
   "metadata": {},
   "source": [
    "In india, the relationship between confirmed cases and deaths is 0.93. This was more than the world wide.The relationship between recovered and confirmed is 1.00."
   ]
  },
  {
   "cell_type": "markdown",
   "metadata": {},
   "source": [
    "## States in India with higher than total average cases registered"
   ]
  },
  {
   "cell_type": "code",
   "execution_count": 44,
   "metadata": {},
   "outputs": [
    {
     "name": "stdout",
     "output_type": "stream",
     "text": [
      "======== Confirmed =========\n",
      "\n",
      "                  Confirmed      Deaths    Recovered\n",
      "Province/State                                      \n",
      "Maharashtra     681186928.0  14980930.0  597480809.0\n",
      "Karnataka       282256260.0   3556197.0  247785356.0\n",
      "Andhra Pradesh  254740494.0   2013926.0  237562013.0\n",
      "Tamil Nadu      252446204.0   3591326.0  233139980.0\n",
      "Kerala          238933212.0    887344.0  211067978.0\n",
      "Uttar Pradesh   187890669.0   2509220.0  168933490.0\n",
      "Delhi           181975872.0   3111860.0  170506773.0\n",
      "West Bengal     154070425.0   2558538.0  141428487.0\n",
      "Odisha           93666792.0    467290.0   87172957.0\n",
      "Rajasthan        92628339.0    818922.0   81794841.0\n",
      "Chhattisgarh     91207882.0   1084634.0   80678518.0\n",
      "Telangana        84952428.0    481250.0   77992105.0 \n",
      "\n",
      "\n",
      "\n",
      "======== Deaths =========\n",
      "\n",
      "                  Confirmed      Deaths    Recovered\n",
      "Province/State                                      \n",
      "Maharashtra     681186928.0  14980930.0  597480809.0\n",
      "Tamil Nadu      252446204.0   3591326.0  233139980.0\n",
      "Karnataka       282256260.0   3556197.0  247785356.0\n",
      "Delhi           181975872.0   3111860.0  170506773.0\n",
      "West Bengal     154070425.0   2558538.0  141428487.0\n",
      "Uttar Pradesh   187890669.0   2509220.0  168933490.0\n",
      "Andhra Pradesh  254740494.0   2013926.0  237562013.0\n",
      "Punjab           56595467.0   1622652.0   49803288.0\n",
      "Gujarat          82848142.0   1454101.0   73365529.0 \n",
      "\n",
      "\n",
      "\n",
      "======== Recovered =========\n",
      "\n",
      "                  Confirmed      Deaths    Recovered\n",
      "Province/State                                      \n",
      "Maharashtra     681186928.0  14980930.0  597480809.0\n",
      "Karnataka       282256260.0   3556197.0  247785356.0\n",
      "Andhra Pradesh  254740494.0   2013926.0  237562013.0\n",
      "Tamil Nadu      252446204.0   3591326.0  233139980.0\n",
      "Kerala          238933212.0    887344.0  211067978.0\n",
      "Delhi           181975872.0   3111860.0  170506773.0\n",
      "Uttar Pradesh   187890669.0   2509220.0  168933490.0\n",
      "West Bengal     154070425.0   2558538.0  141428487.0\n",
      "Odisha           93666792.0    467290.0   87172957.0\n",
      "Rajasthan        92628339.0    818922.0   81794841.0\n",
      "Chhattisgarh     91207882.0   1084634.0   80678518.0\n",
      "Telangana        84952428.0    481250.0   77992105.0 \n",
      "\n",
      "\n",
      "\n"
     ]
    }
   ],
   "source": [
    "states_details=states.groupby(['Province/State']).sum()\n",
    "covid=['Confirmed','Deaths','Recovered']\n",
    "for values in covid:\n",
    "    print(\"========\",values,\"=========\\n\")\n",
    "    higher=states_details[states_details[values]>=states_details[values].mean()]\n",
    "    print(higher.sort_values(values,ascending=False),\"\\n\\n\\n\")"
   ]
  },
  {
   "cell_type": "code",
   "execution_count": 45,
   "metadata": {},
   "outputs": [
    {
     "data": {
      "image/png": "[encoded data removed]",
      "text/plain": [
       "<Figure size 720x576 with 1 Axes>"
      ]
     },
     "metadata": {
      "needs_background": "light"
     },
     "output_type": "display_data"
    }
   ],
   "source": [
    "states=states.sort_values(by='Confirmed',ascending=False)\n",
    "plt.figure(figsize=(10,8))\n",
    "sns.barplot(x=states.index,y=states['Confirmed'])\n",
    "plt.title('Confirmed Cases by States',size=18)\n",
    "plt.xticks(rotation=90)\n",
    "plt.show()    "
   ]
  },
  {
   "cell_type": "code",
   "execution_count": 46,
   "metadata": {
    "scrolled": true
   },
   "outputs": [
    {
     "data": {
      "image/png": "[encoded data removed]",
      "text/plain": [
       "<Figure size 720x576 with 1 Axes>"
      ]
     },
     "metadata": {
      "needs_background": "light"
     },
     "output_type": "display_data"
    }
   ],
   "source": [
    "states=states.sort_values(by='Deaths',ascending=False)\n",
    "plt.figure(figsize=(10,8))\n",
    "sns.barplot(x=states.index,y=states['Deaths'])\n",
    "plt.title('Deaths by States',size=18)\n",
    "plt.xticks(rotation=90)\n",
    "plt.show()   "
   ]
  },
  {
   "cell_type": "code",
   "execution_count": 47,
   "metadata": {},
   "outputs": [
    {
     "data": {
      "image/png": "[encoded data removed]",
      "text/plain": [
       "<Figure size 720x576 with 1 Axes>"
      ]
     },
     "metadata": {
      "needs_background": "light"
     },
     "output_type": "display_data"
    }
   ],
   "source": [
    "states=states.sort_values(by='Recovered',ascending=False)\n",
    "plt.figure(figsize=(10,8))\n",
    "sns.barplot(x=states.index,y=states['Recovered'])\n",
    "plt.title('Recovered cases by States')\n",
    "plt.xticks(rotation=90)\n",
    "plt.show()"
   ]
  },
  {
   "cell_type": "markdown",
   "metadata": {},
   "source": [
    "In all situations, Maharashtra was on the top position in India and Dadar Nagar Haveli was on the last positions."
   ]
  },
  {
   "cell_type": "markdown",
   "metadata": {},
   "source": [
    "## Covid informations about Maharashtra"
   ]
  },
  {
   "cell_type": "code",
   "execution_count": 48,
   "metadata": {
    "scrolled": true
   },
   "outputs": [
    {
     "data": {
      "text/html": [
       "<div>\n",
       "<style scoped>\n",
       "    .dataframe tbody tr th:only-of-type {\n",
       "        vertical-align: middle;\n",
       "    }\n",
       "\n",
       "    .dataframe tbody tr th {\n",
       "        vertical-align: top;\n",
       "    }\n",
       "\n",
       "    .dataframe thead th {\n",
       "        text-align: right;\n",
       "    }\n",
       "</style>\n",
       "<table border=\"1\" class=\"dataframe\">\n",
       "  <thead>\n",
       "    <tr style=\"text-align: right;\">\n",
       "      <th></th>\n",
       "      <th>ObservationDate</th>\n",
       "      <th>Province/State</th>\n",
       "      <th>Country/Region</th>\n",
       "      <th>Last Update</th>\n",
       "      <th>Confirmed</th>\n",
       "      <th>Deaths</th>\n",
       "      <th>Recovered</th>\n",
       "    </tr>\n",
       "  </thead>\n",
       "  <tbody>\n",
       "    <tr>\n",
       "      <th>39515</th>\n",
       "      <td>2020-06-10</td>\n",
       "      <td>Maharashtra</td>\n",
       "      <td>India</td>\n",
       "      <td>2021-04-02 15:13:53</td>\n",
       "      <td>90787.0</td>\n",
       "      <td>3289.0</td>\n",
       "      <td>42638.0</td>\n",
       "    </tr>\n",
       "    <tr>\n",
       "      <th>40244</th>\n",
       "      <td>2020-06-11</td>\n",
       "      <td>Maharashtra</td>\n",
       "      <td>India</td>\n",
       "      <td>2021-04-02 15:13:53</td>\n",
       "      <td>97648.0</td>\n",
       "      <td>3590.0</td>\n",
       "      <td>46078.0</td>\n",
       "    </tr>\n",
       "    <tr>\n",
       "      <th>40977</th>\n",
       "      <td>2020-06-12</td>\n",
       "      <td>Maharashtra</td>\n",
       "      <td>India</td>\n",
       "      <td>2021-04-02 15:13:53</td>\n",
       "      <td>97648.0</td>\n",
       "      <td>3590.0</td>\n",
       "      <td>46078.0</td>\n",
       "    </tr>\n",
       "    <tr>\n",
       "      <th>41710</th>\n",
       "      <td>2020-06-13</td>\n",
       "      <td>Maharashtra</td>\n",
       "      <td>India</td>\n",
       "      <td>2021-04-02 15:13:53</td>\n",
       "      <td>101141.0</td>\n",
       "      <td>3717.0</td>\n",
       "      <td>47796.0</td>\n",
       "    </tr>\n",
       "    <tr>\n",
       "      <th>42443</th>\n",
       "      <td>2020-06-14</td>\n",
       "      <td>Maharashtra</td>\n",
       "      <td>India</td>\n",
       "      <td>2021-04-02 15:13:53</td>\n",
       "      <td>104568.0</td>\n",
       "      <td>3830.0</td>\n",
       "      <td>49346.0</td>\n",
       "    </tr>\n",
       "    <tr>\n",
       "      <th>...</th>\n",
       "      <td>...</td>\n",
       "      <td>...</td>\n",
       "      <td>...</td>\n",
       "      <td>...</td>\n",
       "      <td>...</td>\n",
       "      <td>...</td>\n",
       "      <td>...</td>\n",
       "    </tr>\n",
       "    <tr>\n",
       "      <th>303067</th>\n",
       "      <td>2021-05-25</td>\n",
       "      <td>Maharashtra</td>\n",
       "      <td>India</td>\n",
       "      <td>2021-05-26 04:20:35</td>\n",
       "      <td>5626155.0</td>\n",
       "      <td>90349.0</td>\n",
       "      <td>5218768.0</td>\n",
       "    </tr>\n",
       "    <tr>\n",
       "      <th>303832</th>\n",
       "      <td>2021-05-26</td>\n",
       "      <td>Maharashtra</td>\n",
       "      <td>India</td>\n",
       "      <td>2021-05-27 04:20:59</td>\n",
       "      <td>5650907.0</td>\n",
       "      <td>91341.0</td>\n",
       "      <td>5241833.0</td>\n",
       "    </tr>\n",
       "    <tr>\n",
       "      <th>304597</th>\n",
       "      <td>2021-05-27</td>\n",
       "      <td>Maharashtra</td>\n",
       "      <td>India</td>\n",
       "      <td>2021-05-28 04:20:36</td>\n",
       "      <td>5672180.0</td>\n",
       "      <td>92225.0</td>\n",
       "      <td>5276203.0</td>\n",
       "    </tr>\n",
       "    <tr>\n",
       "      <th>305362</th>\n",
       "      <td>2021-05-28</td>\n",
       "      <td>Maharashtra</td>\n",
       "      <td>India</td>\n",
       "      <td>2021-05-29 04:20:41</td>\n",
       "      <td>5692920.0</td>\n",
       "      <td>93198.0</td>\n",
       "      <td>5307874.0</td>\n",
       "    </tr>\n",
       "    <tr>\n",
       "      <th>306127</th>\n",
       "      <td>2021-05-29</td>\n",
       "      <td>Maharashtra</td>\n",
       "      <td>India</td>\n",
       "      <td>2021-05-30 04:20:55</td>\n",
       "      <td>5713215.0</td>\n",
       "      <td>94030.0</td>\n",
       "      <td>5339838.0</td>\n",
       "    </tr>\n",
       "  </tbody>\n",
       "</table>\n",
       "<p>354 rows × 7 columns</p>\n",
       "</div>"
      ],
      "text/plain": [
       "       ObservationDate Province/State Country/Region          Last Update  \\\n",
       "39515       2020-06-10    Maharashtra          India  2021-04-02 15:13:53   \n",
       "40244       2020-06-11    Maharashtra          India  2021-04-02 15:13:53   \n",
       "40977       2020-06-12    Maharashtra          India  2021-04-02 15:13:53   \n",
       "41710       2020-06-13    Maharashtra          India  2021-04-02 15:13:53   \n",
       "42443       2020-06-14    Maharashtra          India  2021-04-02 15:13:53   \n",
       "...                ...            ...            ...                  ...   \n",
       "303067      2021-05-25    Maharashtra          India  2021-05-26 04:20:35   \n",
       "303832      2021-05-26    Maharashtra          India  2021-05-27 04:20:59   \n",
       "304597      2021-05-27    Maharashtra          India  2021-05-28 04:20:36   \n",
       "305362      2021-05-28    Maharashtra          India  2021-05-29 04:20:41   \n",
       "306127      2021-05-29    Maharashtra          India  2021-05-30 04:20:55   \n",
       "\n",
       "        Confirmed   Deaths  Recovered  \n",
       "39515     90787.0   3289.0    42638.0  \n",
       "40244     97648.0   3590.0    46078.0  \n",
       "40977     97648.0   3590.0    46078.0  \n",
       "41710    101141.0   3717.0    47796.0  \n",
       "42443    104568.0   3830.0    49346.0  \n",
       "...           ...      ...        ...  \n",
       "303067  5626155.0  90349.0  5218768.0  \n",
       "303832  5650907.0  91341.0  5241833.0  \n",
       "304597  5672180.0  92225.0  5276203.0  \n",
       "305362  5692920.0  93198.0  5307874.0  \n",
       "306127  5713215.0  94030.0  5339838.0  \n",
       "\n",
       "[354 rows x 7 columns]"
      ]
     },
     "execution_count": 48,
     "metadata": {},
     "output_type": "execute_result"
    }
   ],
   "source": [
    "mh=india[india['Province/State']=='Maharashtra']\n",
    "mh"
   ]
  },
  {
   "cell_type": "code",
   "execution_count": 49,
   "metadata": {},
   "outputs": [
    {
     "data": {
      "image/png": "[encoded data removed]",
      "text/plain": [
       "<Figure size 432x288 with 1 Axes>"
      ]
     },
     "metadata": {
      "needs_background": "light"
     },
     "output_type": "display_data"
    }
   ],
   "source": [
    "sns.boxplot(mh['Deaths'],color='#FF2442')\n",
    "plt.show()"
   ]
  },
  {
   "cell_type": "markdown",
   "metadata": {},
   "source": [
    "In Maharasthra, the covid deaths happened mainly in between range of 20000 to 60000 per day."
   ]
  },
  {
   "cell_type": "code",
   "execution_count": 50,
   "metadata": {},
   "outputs": [
    {
     "data": {
      "image/png": "[encoded data removed]",
      "text/plain": [
       "<Figure size 432x288 with 1 Axes>"
      ]
     },
     "metadata": {
      "needs_background": "light"
     },
     "output_type": "display_data"
    }
   ],
   "source": [
    "sns.boxplot(mh['Confirmed'],color='#1CC5DC')\n",
    "plt.show()"
   ]
  },
  {
   "cell_type": "markdown",
   "metadata": {},
   "source": [
    "In Maharasthra, the covid confirmed cases registered mainly in between the range of 100000 to 200000 per day."
   ]
  },
  {
   "cell_type": "code",
   "execution_count": 51,
   "metadata": {},
   "outputs": [
    {
     "data": {
      "image/png": "[encoded data removed]",
      "text/plain": [
       "<Figure size 432x288 with 1 Axes>"
      ]
     },
     "metadata": {
      "needs_background": "light"
     },
     "output_type": "display_data"
    }
   ],
   "source": [
    "sns.boxplot(mh['Recovered'],color='#184D47')\n",
    "plt.show()"
   ]
  },
  {
   "cell_type": "markdown",
   "metadata": {},
   "source": [
    "In Maharasthra, the covid recovered patients number  mainly in between range of 100000 to 200000 per day."
   ]
  },
  {
   "cell_type": "code",
   "execution_count": 52,
   "metadata": {},
   "outputs": [],
   "source": [
    "mh.set_index('ObservationDate',inplace=True)"
   ]
  },
  {
   "cell_type": "code",
   "execution_count": 53,
   "metadata": {
    "scrolled": false
   },
   "outputs": [
    {
     "data": {
      "text/html": [
       "<div>\n",
       "<style scoped>\n",
       "    .dataframe tbody tr th:only-of-type {\n",
       "        vertical-align: middle;\n",
       "    }\n",
       "\n",
       "    .dataframe tbody tr th {\n",
       "        vertical-align: top;\n",
       "    }\n",
       "\n",
       "    .dataframe thead th {\n",
       "        text-align: right;\n",
       "    }\n",
       "</style>\n",
       "<table border=\"1\" class=\"dataframe\">\n",
       "  <thead>\n",
       "    <tr style=\"text-align: right;\">\n",
       "      <th></th>\n",
       "      <th>Confirmed</th>\n",
       "      <th>Deaths</th>\n",
       "      <th>Recovered</th>\n",
       "    </tr>\n",
       "    <tr>\n",
       "      <th>ObservationDate</th>\n",
       "      <th></th>\n",
       "      <th></th>\n",
       "      <th></th>\n",
       "    </tr>\n",
       "  </thead>\n",
       "  <tbody>\n",
       "    <tr>\n",
       "      <th>2020-06-30</th>\n",
       "      <td>2724463.0</td>\n",
       "      <td>120887.0</td>\n",
       "      <td>1377598.0</td>\n",
       "    </tr>\n",
       "    <tr>\n",
       "      <th>2020-07-31</th>\n",
       "      <td>9014139.0</td>\n",
       "      <td>349835.0</td>\n",
       "      <td>5060980.0</td>\n",
       "    </tr>\n",
       "    <tr>\n",
       "      <th>2020-08-31</th>\n",
       "      <td>18598274.0</td>\n",
       "      <td>619584.0</td>\n",
       "      <td>13012593.0</td>\n",
       "    </tr>\n",
       "    <tr>\n",
       "      <th>2020-09-30</th>\n",
       "      <td>33137519.0</td>\n",
       "      <td>920023.0</td>\n",
       "      <td>24330986.0</td>\n",
       "    </tr>\n",
       "    <tr>\n",
       "      <th>2020-10-31</th>\n",
       "      <td>48444892.0</td>\n",
       "      <td>1276328.0</td>\n",
       "      <td>41237595.0</td>\n",
       "    </tr>\n",
       "    <tr>\n",
       "      <th>2020-11-30</th>\n",
       "      <td>52546687.0</td>\n",
       "      <td>1376175.0</td>\n",
       "      <td>48384854.0</td>\n",
       "    </tr>\n",
       "    <tr>\n",
       "      <th>2020-12-31</th>\n",
       "      <td>58410903.0</td>\n",
       "      <td>1501374.0</td>\n",
       "      <td>54772485.0</td>\n",
       "    </tr>\n",
       "    <tr>\n",
       "      <th>2021-01-31</th>\n",
       "      <td>61520265.0</td>\n",
       "      <td>1560965.0</td>\n",
       "      <td>58406655.0</td>\n",
       "    </tr>\n",
       "    <tr>\n",
       "      <th>2021-02-28</th>\n",
       "      <td>58121612.0</td>\n",
       "      <td>1444013.0</td>\n",
       "      <td>55399492.0</td>\n",
       "    </tr>\n",
       "    <tr>\n",
       "      <th>2021-03-31</th>\n",
       "      <td>74559135.0</td>\n",
       "      <td>1647151.0</td>\n",
       "      <td>67447188.0</td>\n",
       "    </tr>\n",
       "    <tr>\n",
       "      <th>2021-04-30</th>\n",
       "      <td>110884048.0</td>\n",
       "      <td>1809502.0</td>\n",
       "      <td>91313669.0</td>\n",
       "    </tr>\n",
       "    <tr>\n",
       "      <th>2021-05-31</th>\n",
       "      <td>153224991.0</td>\n",
       "      <td>2355093.0</td>\n",
       "      <td>136736714.0</td>\n",
       "    </tr>\n",
       "  </tbody>\n",
       "</table>\n",
       "</div>"
      ],
      "text/plain": [
       "                   Confirmed     Deaths    Recovered\n",
       "ObservationDate                                     \n",
       "2020-06-30         2724463.0   120887.0    1377598.0\n",
       "2020-07-31         9014139.0   349835.0    5060980.0\n",
       "2020-08-31        18598274.0   619584.0   13012593.0\n",
       "2020-09-30        33137519.0   920023.0   24330986.0\n",
       "2020-10-31        48444892.0  1276328.0   41237595.0\n",
       "2020-11-30        52546687.0  1376175.0   48384854.0\n",
       "2020-12-31        58410903.0  1501374.0   54772485.0\n",
       "2021-01-31        61520265.0  1560965.0   58406655.0\n",
       "2021-02-28        58121612.0  1444013.0   55399492.0\n",
       "2021-03-31        74559135.0  1647151.0   67447188.0\n",
       "2021-04-30       110884048.0  1809502.0   91313669.0\n",
       "2021-05-31       153224991.0  2355093.0  136736714.0"
      ]
     },
     "execution_count": 53,
     "metadata": {},
     "output_type": "execute_result"
    }
   ],
   "source": [
    "mh.index=pd.to_datetime(mh.index,format='%m/%d/%Y')\n",
    "mhm=mh.resample('M').sum()\n",
    "mhm"
   ]
  },
  {
   "cell_type": "code",
   "execution_count": 54,
   "metadata": {
    "scrolled": false
   },
   "outputs": [
    {
     "data": {
      "image/png": "[encoded data removed]",
      "text/plain": [
       "<Figure size 432x288 with 1 Axes>"
      ]
     },
     "metadata": {
      "needs_background": "light"
     },
     "output_type": "display_data"
    }
   ],
   "source": [
    "mhm.plot()\n",
    "plt.show()"
   ]
  },
  {
   "cell_type": "markdown",
   "metadata": {},
   "source": [
    "Here we can see that, intensity of covid increases from february 2021 onwards.There is huge difference between before february and after that. The number cases were doubled from previous in that period"
   ]
  },
  {
   "cell_type": "markdown",
   "metadata": {},
   "source": [
    "# Conclusion"
   ]
  },
  {
   "cell_type": "markdown",
   "metadata": {},
   "source": [
    "Coronavirus disease 2019 (COVID-19) is a contagious disease caused by severe acute respiratory syndrome coronavirus 2 (SARS-CoV-2). The first known case was identified in Wuhan, China, in December 2019. The disease has since spread worldwide, leading to an ongoing pandemic."
   ]
  },
  {
   "cell_type": "markdown",
   "metadata": {},
   "source": [
    "Covid 19 mostly affected in countries such as US, India, Brazil, Russia, Russia, UK, Turkey and France.\n",
    "<li>US holding the first position for the most number of confirmed COVID-19 cases by total and  India, Brazil, Russia and France were on following positions</li>\n",
    "<li>The countries such as US, Brazil, India, Mexico and UK were on the top 5 positions of total covid-19 Deaths.</li>\n",
    "<li>The countries such as India, Brazil, Russia, Turkey and US were on the top 5 positions of total covid-19 recovery.</li>"
   ]
  },
  {
   "cell_type": "markdown",
   "metadata": {},
   "source": [
    "In India, COVID-19 mostly affected in Maharshtra.\n",
    "<li>The most frequently registered daily cases were in between the range of 1 to 2 lakh.</li>\n",
    "<li>The most frequently registered deaths per days  were in between the range of 20000 to 60000.</li>\n",
    "<li> In the months of February, March, April and May, there is huge hike in terms of number covid cases in India.\n",
    "\n"
   ]
  },
  {
   "cell_type": "markdown",
   "metadata": {},
   "source": [
    "The Covid deaths and Confirmed cases were highly correlated in India , which is greater than World ratio. But the recovery ratio is much higher. so it giving some relax to Indians and but at the same time , the increase in last months giving some warnings as well."
   ]
  },
  {
   "cell_type": "code",
   "execution_count": null,
   "metadata": {},
   "outputs": [],
   "source": []
  },
  {
   "cell_type": "code",
   "execution_count": null,
   "metadata": {},
   "outputs": [],
   "source": []
  },
  {
   "cell_type": "code",
   "execution_count": null,
   "metadata": {},
   "outputs": [],
   "source": []
  }
 ],
 "metadata": {
  "kernelspec": {
   "display_name": "Python 3",
   "language": "python",
   "name": "python3"
  },
  "language_info": {
   "codemirror_mode": {
    "name": "ipython",
    "version": 3
   },
   "file_extension": ".py",
   "mimetype": "text/x-python",
   "name": "python",
   "nbconvert_exporter": "python",
   "pygments_lexer": "ipython3",
   "version": "3.8.5"
  }
 },
 "nbformat": 4,
 "nbformat_minor": 4
}
