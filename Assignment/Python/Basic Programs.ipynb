{
 "cells": [
  {
   "cell_type": "markdown",
   "metadata": {},
   "source": [
    "# Programs"
   ]
  },
  {
   "cell_type": "code",
   "execution_count": null,
   "metadata": {},
   "outputs": [],
   "source": [
    "#Basic arithematic operations"
   ]
  },
  {
   "cell_type": "code",
   "execution_count": 1,
   "metadata": {},
   "outputs": [
    {
     "name": "stdout",
     "output_type": "stream",
     "text": [
      "sum: 28\n",
      "Difference is  2\n",
      "Product is  195\n",
      "Division is  1.1538461538461537\n",
      "Remainder is 2\n"
     ]
    }
   ],
   "source": [
    "a=15\n",
    "b=13\n",
    "print(\"sum:\",a+b)\n",
    "print(\"Difference is \",a-b)\n",
    "print(\"Product is \",a*b)\n",
    "print(\"Division is \",a/b)\n",
    "print(\"Remainder is\", a%b)\n"
   ]
  },
  {
   "cell_type": "code",
   "execution_count": null,
   "metadata": {},
   "outputs": [],
   "source": [
    "#sum of numbers from user input"
   ]
  },
  {
   "cell_type": "code",
   "execution_count": 2,
   "metadata": {},
   "outputs": [
    {
     "name": "stdout",
     "output_type": "stream",
     "text": [
      "Enter 1st number :12\n",
      "Enter 2nd numner :14\n",
      "sum of two numbers : 26\n"
     ]
    }
   ],
   "source": [
    "x=int(input(\"Enter 1st number :\"))\n",
    "y=int(input(\"Enter 2nd numner :\"))\n",
    "print(\"sum of two numbers :\",x+y)"
   ]
  },
  {
   "cell_type": "code",
   "execution_count": null,
   "metadata": {},
   "outputs": [],
   "source": [
    "#perimeter of rectangle\n"
   ]
  },
  {
   "cell_type": "code",
   "execution_count": 3,
   "metadata": {},
   "outputs": [
    {
     "name": "stdout",
     "output_type": "stream",
     "text": [
      "Enter length :14\n",
      "Enter breadth :16\n",
      "60\n"
     ]
    }
   ],
   "source": [
    "l=int(input(\"Enter length :\"))\n",
    "b=int(input(\"Enter breadth :\"))\n",
    "perimeter=2*(l+b)\n",
    "print(perimeter)"
   ]
  },
  {
   "cell_type": "code",
   "execution_count": null,
   "metadata": {},
   "outputs": [],
   "source": [
    "# Perimeter of circle\n"
   ]
  },
  {
   "cell_type": "code",
   "execution_count": 4,
   "metadata": {},
   "outputs": [
    {
     "name": "stdout",
     "output_type": "stream",
     "text": [
      "Enter radius :14\n",
      "Perimeter of circle : 87.92\n"
     ]
    }
   ],
   "source": [
    "r=int(input(\"Enter radius :\"))\n",
    "p=2*3.14*r\n",
    "print(\"Perimeter of circle :\",p)"
   ]
  },
  {
   "cell_type": "code",
   "execution_count": null,
   "metadata": {},
   "outputs": [],
   "source": [
    "#volume of sphere\n"
   ]
  },
  {
   "cell_type": "code",
   "execution_count": 5,
   "metadata": {},
   "outputs": [
    {
     "name": "stdout",
     "output_type": "stream",
     "text": [
      "Enter radius :14\n",
      "Volume of sphere 11488.213333333333\n"
     ]
    }
   ],
   "source": [
    "r=int(input(\"Enter radius :\"))\n",
    "v=(4*3.14*r*r*r)/3\n",
    "print(\"Volume of sphere\",v)"
   ]
  },
  {
   "cell_type": "code",
   "execution_count": null,
   "metadata": {},
   "outputs": [],
   "source": [
    "#volume of cube"
   ]
  },
  {
   "cell_type": "code",
   "execution_count": 6,
   "metadata": {},
   "outputs": [
    {
     "name": "stdout",
     "output_type": "stream",
     "text": [
      "Enter radius :14\n",
      "Volume of Cube 2744\n"
     ]
    }
   ],
   "source": [
    "r=int(input(\"Enter radius :\"))\n",
    "v=r*r*r\n",
    "print(\"Volume of Cube\",v)"
   ]
  },
  {
   "cell_type": "code",
   "execution_count": null,
   "metadata": {},
   "outputs": [],
   "source": [
    "# Print the power of  number\n"
   ]
  },
  {
   "cell_type": "code",
   "execution_count": 7,
   "metadata": {},
   "outputs": [
    {
     "name": "stdout",
     "output_type": "stream",
     "text": [
      "Enter a number :12\n",
      "Enter power :2\n",
      "144\n"
     ]
    }
   ],
   "source": [
    "numb=int(input(\"Enter a number :\"))\n",
    "pow=int(input(\"Enter power :\"))\n",
    "print(numb**pow)"
   ]
  },
  {
   "cell_type": "code",
   "execution_count": null,
   "metadata": {},
   "outputs": [],
   "source": [
    "# To print reverse of two number"
   ]
  },
  {
   "cell_type": "code",
   "execution_count": 8,
   "metadata": {},
   "outputs": [
    {
     "name": "stdout",
     "output_type": "stream",
     "text": [
      "Enter Two digit number :17\n",
      "Reverse : 71\n"
     ]
    }
   ],
   "source": [
    "num=int(input(\"Enter Two digit number :\"))\n",
    "second=num%10\n",
    "first=num//10\n",
    "revers=(second*10)+first\n",
    "print(\"Reverse :\",revers)"
   ]
  },
  {
   "cell_type": "code",
   "execution_count": null,
   "metadata": {},
   "outputs": [],
   "source": [
    "# To print reverse of three number"
   ]
  },
  {
   "cell_type": "code",
   "execution_count": 9,
   "metadata": {},
   "outputs": [
    {
     "name": "stdout",
     "output_type": "stream",
     "text": [
      "Enter Three Digit Number :154\n",
      "451\n"
     ]
    }
   ],
   "source": [
    "num1=int(input(\"Enter Three Digit Number :\"))\n",
    "third=num1%10\n",
    "rem=num1//10\n",
    "second=rem%10\n",
    "first=num1//100\n",
    "reverse=(third*100)+(second*10)+first\n",
    "print(reverse)"
   ]
  },
  {
   "cell_type": "code",
   "execution_count": null,
   "metadata": {},
   "outputs": [],
   "source": [
    "#Simple interest"
   ]
  },
  {
   "cell_type": "code",
   "execution_count": 10,
   "metadata": {},
   "outputs": [
    {
     "name": "stdout",
     "output_type": "stream",
     "text": [
      "Enter amount :12000\n",
      "Enter rate of ineterest :11\n",
      "Enter number of years :3\n",
      "Simple interest : 3960.0\n"
     ]
    }
   ],
   "source": [
    "p=float(input(\"Enter amount :\"))\n",
    "r=float(input(\"Enter rate of ineterest :\"))\n",
    "n=int(input(\"Enter number of years :\"))\n",
    "print(\"Simple interest :\",p*n*r/100)"
   ]
  },
  {
   "cell_type": "code",
   "execution_count": null,
   "metadata": {},
   "outputs": [],
   "source": [
    "#Quadratic equation"
   ]
  },
  {
   "cell_type": "code",
   "execution_count": 11,
   "metadata": {},
   "outputs": [
    {
     "name": "stdout",
     "output_type": "stream",
     "text": [
      "Quadratic equation:ax^2 + bx + c = 0\n",
      "Please enter the value of x:2\n",
      "Please enter the value of a:12\n",
      "Please enter the value of b:5\n",
      "Please enter the value of c:6\n",
      "12x^2+5x+6=0\n",
      "quadratic equation value is : 64\n"
     ]
    }
   ],
   "source": [
    "print(\"Quadratic equation:ax^2 + bx + c = 0\")\n",
    "x = int(input(\"Please enter the value of x:\"))\n",
    "a = int(input(\"Please enter the value of a:\"))\n",
    "b = int(input(\"Please enter the value of b:\"))\n",
    "c = int(input(\"Please enter the value of c:\"))\n",
    "print(str(a)+\"x^2+\"+str(b)+\"x+\"+str(c)+\"=0\")\n",
    "print(\"quadratic equation value is :\",(a*(x**2))+(b*x)+c)"
   ]
  }
 ],
 "metadata": {
  "kernelspec": {
   "display_name": "Python 3",
   "language": "python",
   "name": "python3"
  },
  "language_info": {
   "codemirror_mode": {
    "name": "ipython",
    "version": 3
   },
   "file_extension": ".py",
   "mimetype": "text/x-python",
   "name": "python",
   "nbconvert_exporter": "python",
   "pygments_lexer": "ipython3",
   "version": "3.8.5"
  }
 },
 "nbformat": 4,
 "nbformat_minor": 4
}
