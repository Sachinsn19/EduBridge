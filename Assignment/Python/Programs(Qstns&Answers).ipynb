{
 "cells": [
  {
   "cell_type": "markdown",
   "metadata": {},
   "source": [
    "# PROGRAMS"
   ]
  },
  {
   "cell_type": "code",
   "execution_count": null,
   "metadata": {},
   "outputs": [],
   "source": [
    "#Pgm to print days in week"
   ]
  },
  {
   "cell_type": "code",
   "execution_count": 1,
   "metadata": {},
   "outputs": [
    {
     "name": "stdout",
     "output_type": "stream",
     "text": [
      "Enter number in between 1 to 7 :5\n",
      "Thursday\n"
     ]
    }
   ],
   "source": [
    "x=int(input(\"Enter number in between 1 to 7 :\"))\n",
    "if x==1:\n",
    "    print(\"Sunday\")\n",
    "elif x==2:\n",
    "    print(\"Monday\")\n",
    "elif x==3:\n",
    "    print(\"Tuesday\")\n",
    "elif x==4:\n",
    "    print(\"Wednesday\")\n",
    "elif x==5:\n",
    "    print(\"Thursday\")\n",
    "elif x==6:\n",
    "    print(\"Friday\")\n",
    "else:\n",
    "    print(\"Saturday\")"
   ]
  },
  {
   "cell_type": "code",
   "execution_count": null,
   "metadata": {},
   "outputs": [],
   "source": [
    "#perimeter of rectangle\n"
   ]
  },
  {
   "cell_type": "code",
   "execution_count": 4,
   "metadata": {},
   "outputs": [
    {
     "name": "stdout",
     "output_type": "stream",
     "text": [
      "Enter length :12\n",
      "Enter breadth :34\n",
      "92\n"
     ]
    }
   ],
   "source": [
    "l=int(input(\"Enter length :\"))\n",
    "b=int(input(\"Enter breadth :\"))\n",
    "perimeter=2*(l+b)\n",
    "print(perimeter)"
   ]
  },
  {
   "cell_type": "code",
   "execution_count": null,
   "metadata": {},
   "outputs": [],
   "source": [
    "# Perimeter of circle\n"
   ]
  },
  {
   "cell_type": "code",
   "execution_count": 5,
   "metadata": {},
   "outputs": [
    {
     "name": "stdout",
     "output_type": "stream",
     "text": [
      "Enter radius :45\n",
      "Perimeter of circle : 282.6\n"
     ]
    }
   ],
   "source": [
    "r=int(input(\"Enter radius :\"))\n",
    "p=2*3.14*r\n",
    "print(\"Perimeter of circle :\",p)"
   ]
  },
  {
   "cell_type": "code",
   "execution_count": null,
   "metadata": {},
   "outputs": [],
   "source": [
    "#volume of sphere\n"
   ]
  },
  {
   "cell_type": "code",
   "execution_count": 6,
   "metadata": {},
   "outputs": [
    {
     "name": "stdout",
     "output_type": "stream",
     "text": [
      "Enter radius :24\n",
      "Volume of sphere 57876.48\n"
     ]
    }
   ],
   "source": [
    "r=int(input(\"Enter radius :\"))\n",
    "v=(4*3.14*r*r*r)/3\n",
    "print(\"Volume of sphere\",v)"
   ]
  },
  {
   "cell_type": "code",
   "execution_count": null,
   "metadata": {},
   "outputs": [],
   "source": [
    "#volume of cube"
   ]
  },
  {
   "cell_type": "code",
   "execution_count": 8,
   "metadata": {},
   "outputs": [
    {
     "name": "stdout",
     "output_type": "stream",
     "text": [
      "Enter radius :12\n",
      "Volume of Cube 1728\n"
     ]
    }
   ],
   "source": [
    "r=int(input(\"Enter radius :\"))\n",
    "v=r*r*r\n",
    "print(\"Volume of Cube\",v)"
   ]
  },
  {
   "cell_type": "code",
   "execution_count": null,
   "metadata": {},
   "outputs": [],
   "source": [
    "#give 10% bonus if salary greater than 10000\n"
   ]
  },
  {
   "cell_type": "code",
   "execution_count": 9,
   "metadata": {},
   "outputs": [
    {
     "name": "stdout",
     "output_type": "stream",
     "text": [
      "Enter the salary :110000\n",
      "121000.0\n"
     ]
    }
   ],
   "source": [
    "n=int(input(\"Enter the salary :\"))\n",
    "if n>=10000:\n",
    "    print(n+((n*10)/100))\n",
    "else:\n",
    "    print(\"No bonus\")"
   ]
  },
  {
   "cell_type": "code",
   "execution_count": null,
   "metadata": {},
   "outputs": [],
   "source": [
    "#pgm to print grades based on marks"
   ]
  },
  {
   "cell_type": "code",
   "execution_count": 2,
   "metadata": {},
   "outputs": [
    {
     "name": "stdout",
     "output_type": "stream",
     "text": [
      "Enter your mark:80\n",
      "Grade is B\n"
     ]
    }
   ],
   "source": [
    "mark=float(input(\"Enter your mark:\"))\n",
    "if mark>90:\n",
    "    print(\"Grade is A\")\n",
    "elif mark>=75 and mark<90:\n",
    "    print(\"Grade is B\")\n",
    "elif mark>=65 and mark<75:\n",
    "    print(\"Grade is C\")\n",
    "elif mark>=50 and mark<65:\n",
    "    print(\"Grade is D\")\n",
    "else :\n",
    "    print(\" Fail\")"
   ]
  },
  {
   "cell_type": "code",
   "execution_count": null,
   "metadata": {},
   "outputs": [],
   "source": [
    "#Io print smallest among 3 numbers"
   ]
  },
  {
   "cell_type": "code",
   "execution_count": 4,
   "metadata": {},
   "outputs": [
    {
     "name": "stdout",
     "output_type": "stream",
     "text": [
      "Enter 3 numbers :12\n",
      "45\n",
      "23\n",
      "12 is smaller\n"
     ]
    }
   ],
   "source": [
    "n1=int(input(\"Enter 3 numbers :\"))\n",
    "n2=int(input())\n",
    "n3=int(input())\n",
    "if n1<n2:\n",
    "    if n1<n3:\n",
    "        print(n1,\"is smaller\")\n",
    "    else:\n",
    "        print(n3,\"is smaller\")\n",
    "else:\n",
    "    if n2<n3:\n",
    "        print(n2,\" is smaller\")\n",
    "    else:\n",
    "        print(n3,\" is smaller\")"
   ]
  },
  {
   "cell_type": "code",
   "execution_count": null,
   "metadata": {},
   "outputs": [],
   "source": [
    "# print calculator"
   ]
  },
  {
   "cell_type": "code",
   "execution_count": 26,
   "metadata": {},
   "outputs": [
    {
     "name": "stdout",
     "output_type": "stream",
     "text": [
      "Enter First Number 23\n",
      "Enter operators from [+, -, *, /, //, %]*\n",
      "Enter Second Number 10\n",
      "230\n"
     ]
    }
   ],
   "source": [
    "num1=int(input(\"Enter First Number \"))\n",
    "op=input(\"Enter operators from [+, -, *, /, //, %]\")\n",
    "num2=int(input(\"Enter Second Number \"))\n",
    "if op=='+':\n",
    "    print(num1+num2)\n",
    "elif op=='-':\n",
    "    print(num1-num2)\n",
    "elif op=='*':\n",
    "    print(num1*num2)\n",
    "elif op=='/':\n",
    "    print(num1/num2)\n",
    "elif op=='//':\n",
    "    print(num1/num2)\n",
    "elif op=='%':\n",
    "    print(num1%num2)\n",
    "else:\n",
    "    print(\"Please enter provided operators\")"
   ]
  },
  {
   "cell_type": "code",
   "execution_count": null,
   "metadata": {},
   "outputs": [],
   "source": [
    "# To check a number is even or odd"
   ]
  },
  {
   "cell_type": "code",
   "execution_count": 5,
   "metadata": {},
   "outputs": [
    {
     "name": "stdout",
     "output_type": "stream",
     "text": [
      "Enter a number :13\n",
      "13 is odd number\n"
     ]
    }
   ],
   "source": [
    "m=int(input(\"Enter a number :\"))\n",
    "if m%2==0:\n",
    "    print(m,\"is a even number\")\n",
    "else:\n",
    "    print(m,\"is odd number\")"
   ]
  },
  {
   "cell_type": "code",
   "execution_count": null,
   "metadata": {},
   "outputs": [],
   "source": [
    "#To check leap year or not"
   ]
  },
  {
   "cell_type": "code",
   "execution_count": 6,
   "metadata": {},
   "outputs": [
    {
     "name": "stdout",
     "output_type": "stream",
     "text": [
      "Enter year :2009\n",
      "2009  is not a Leap Year\n"
     ]
    }
   ],
   "source": [
    "year=int(input(\"Enter year :\"))\n",
    "if (year%4)==0:\n",
    "    print(year,\"is a Leap Year\")\n",
    "elif (year%100)!=0:\n",
    "    print(year,\" is not a Leap Year\")\n",
    "elif (year%400==0):\n",
    "    print(year,\"is a Leap Year\")\n",
    "    "
   ]
  },
  {
   "cell_type": "code",
   "execution_count": null,
   "metadata": {},
   "outputs": [],
   "source": [
    "# To print greatest among 3 numbers"
   ]
  },
  {
   "cell_type": "code",
   "execution_count": 8,
   "metadata": {},
   "outputs": [
    {
     "name": "stdout",
     "output_type": "stream",
     "text": [
      "Enter 3 numbers :22\n",
      "44\n",
      "23\n",
      "44  is greater\n"
     ]
    }
   ],
   "source": [
    "n1=int(input(\"Enter 3 numbers :\"))\n",
    "n2=int(input())\n",
    "n3=int(input())\n",
    "if n1>n2:\n",
    "    if n1>n3:\n",
    "        print(n1,\"is greater\")\n",
    "    else:\n",
    "        print(n3,\"is greater\")\n",
    "else:\n",
    "    if n2>n3:\n",
    "        print(n2,\" is greater\")\n",
    "    else:\n",
    "        print(n3,\" is greater\")\n",
    "        "
   ]
  },
  {
   "cell_type": "code",
   "execution_count": null,
   "metadata": {},
   "outputs": [],
   "source": [
    "# To check voter is eligible or not"
   ]
  },
  {
   "cell_type": "code",
   "execution_count": 9,
   "metadata": {},
   "outputs": [
    {
     "name": "stdout",
     "output_type": "stream",
     "text": [
      "Enter your age :23\n",
      "You are eligible for vote\n"
     ]
    }
   ],
   "source": [
    "age=int(input(\"Enter your age :\"))\n",
    "if age>=18:\n",
    "    print(\"You are eligible for vote\")\n",
    "else:\n",
    "    print(\"You are not eligible \")"
   ]
  },
  {
   "cell_type": "code",
   "execution_count": null,
   "metadata": {},
   "outputs": [],
   "source": [
    "# To print even number from1 to 100"
   ]
  },
  {
   "cell_type": "code",
   "execution_count": 10,
   "metadata": {},
   "outputs": [
    {
     "name": "stdout",
     "output_type": "stream",
     "text": [
      "2\n",
      "4\n",
      "6\n",
      "8\n",
      "10\n",
      "12\n",
      "14\n",
      "16\n",
      "18\n",
      "20\n",
      "22\n",
      "24\n",
      "26\n",
      "28\n",
      "30\n",
      "32\n",
      "34\n",
      "36\n",
      "38\n",
      "40\n",
      "42\n",
      "44\n",
      "46\n",
      "48\n",
      "50\n",
      "52\n",
      "54\n",
      "56\n",
      "58\n",
      "60\n",
      "62\n",
      "64\n",
      "66\n",
      "68\n",
      "70\n",
      "72\n",
      "74\n",
      "76\n",
      "78\n",
      "80\n",
      "82\n",
      "84\n",
      "86\n",
      "88\n",
      "90\n",
      "92\n",
      "94\n",
      "96\n",
      "98\n"
     ]
    }
   ],
   "source": [
    "\n",
    "i=1\n",
    "while i<100:\n",
    "    if i%2==0:\n",
    "        print(i)\n",
    "        \n",
    "    i=i+1"
   ]
  },
  {
   "cell_type": "code",
   "execution_count": 12,
   "metadata": {},
   "outputs": [],
   "source": [
    "#sum of  n numbers\n"
   ]
  },
  {
   "cell_type": "code",
   "execution_count": 13,
   "metadata": {},
   "outputs": [
    {
     "name": "stdout",
     "output_type": "stream",
     "text": [
      "Enter  number: 6\n",
      "21\n"
     ]
    }
   ],
   "source": [
    "i=1\n",
    "sum=0\n",
    "n=int(input(\"Enter  number: \"))\n",
    "while i<=n:\n",
    "    sum=sum+i\n",
    "    i=i+1\n",
    "print(sum)"
   ]
  },
  {
   "cell_type": "code",
   "execution_count": null,
   "metadata": {},
   "outputs": [],
   "source": [
    "# To print n numbers"
   ]
  },
  {
   "cell_type": "code",
   "execution_count": 14,
   "metadata": {},
   "outputs": [
    {
     "name": "stdout",
     "output_type": "stream",
     "text": [
      "Enter number :7\n",
      "1\n",
      "2\n",
      "3\n",
      "4\n",
      "5\n",
      "6\n"
     ]
    }
   ],
   "source": [
    "i=1\n",
    "n=int(input(\"Enter number :\"))\n",
    "while i<+n:\n",
    "    print(i)\n",
    "    i=i+1"
   ]
  },
  {
   "cell_type": "code",
   "execution_count": null,
   "metadata": {},
   "outputs": [],
   "source": [
    "#To print Multiple table of number"
   ]
  },
  {
   "cell_type": "code",
   "execution_count": 15,
   "metadata": {},
   "outputs": [
    {
     "name": "stdout",
     "output_type": "stream",
     "text": [
      "Enter a number :8\n",
      "Enter limit :10\n",
      "Table of 8 is\n",
      "1 * 8 = 8\n",
      "2 * 8 = 16\n",
      "3 * 8 = 24\n",
      "4 * 8 = 32\n",
      "5 * 8 = 40\n",
      "6 * 8 = 48\n",
      "7 * 8 = 56\n",
      "8 * 8 = 64\n",
      "9 * 8 = 72\n",
      "10 * 8 = 80\n"
     ]
    }
   ],
   "source": [
    "#table of number\n",
    "i=1\n",
    "num=int(input(\"Enter a number :\"))\n",
    "lim=int(input(\"Enter limit :\"))\n",
    "print(\"Table of\",num,\"is\")\n",
    "while i<=lim:\n",
    "    print(i,\"*\",num,\"=\",num*i)\n",
    "    i=i+1\n"
   ]
  },
  {
   "cell_type": "code",
   "execution_count": null,
   "metadata": {},
   "outputs": [],
   "source": [
    "#To print factorial of number"
   ]
  },
  {
   "cell_type": "code",
   "execution_count": 18,
   "metadata": {},
   "outputs": [
    {
     "name": "stdout",
     "output_type": "stream",
     "text": [
      "Enter number :10\n",
      "3628800\n"
     ]
    }
   ],
   "source": [
    "i=1\n",
    "fact=1\n",
    "num=int(input(\"Enter number :\"))\n",
    "while i<=num:\n",
    "    fact=fact*i\n",
    "    i=i+1\n",
    "\n",
    "print(fact)"
   ]
  },
  {
   "cell_type": "code",
   "execution_count": null,
   "metadata": {},
   "outputs": [],
   "source": [
    "# To print reverse of two number"
   ]
  },
  {
   "cell_type": "code",
   "execution_count": 21,
   "metadata": {},
   "outputs": [
    {
     "name": "stdout",
     "output_type": "stream",
     "text": [
      "Enter Two digit number :56\n",
      "Reverse : 65\n"
     ]
    }
   ],
   "source": [
    "num=int(input(\"Enter Two digit number :\"))\n",
    "second=num%10\n",
    "first=num//10\n",
    "revers=(second*10)+first\n",
    "print(\"Reverse :\",revers)"
   ]
  },
  {
   "cell_type": "code",
   "execution_count": null,
   "metadata": {},
   "outputs": [],
   "source": [
    "# To print reverse of three number"
   ]
  },
  {
   "cell_type": "code",
   "execution_count": 22,
   "metadata": {},
   "outputs": [
    {
     "name": "stdout",
     "output_type": "stream",
     "text": [
      "Enter Three Digit Number :456\n",
      "654\n"
     ]
    }
   ],
   "source": [
    "num1=int(input(\"Enter Three Digit Number :\"))\n",
    "third=num1%10\n",
    "rem=num1//10\n",
    "second=rem%10\n",
    "first=num1//100\n",
    "reverse=(third*100)+(second*10)+first\n",
    "print(reverse)"
   ]
  },
  {
   "cell_type": "code",
   "execution_count": null,
   "metadata": {},
   "outputs": [],
   "source": [
    "#To print 3 numbers in ascending order"
   ]
  },
  {
   "cell_type": "code",
   "execution_count": 28,
   "metadata": {},
   "outputs": [
    {
     "name": "stdout",
     "output_type": "stream",
     "text": [
      "Enter 3 numbers :23\n",
      "34\n",
      "56\n",
      "23   34   56\n"
     ]
    }
   ],
   "source": [
    "n1=int(input(\"Enter 3 numbers :\"))\n",
    "n2=int(input())\n",
    "n3=int(input())\n",
    "if n1<n2 and n2<n3:\n",
    "    print(n1,\" \",n2,\" \",n3)\n",
    "elif n1<n2 and n1<n3:\n",
    "     print(n1,\" \",n3,\" \",n2)\n",
    "elif n2<n1 and n1<n3:\n",
    "     print(n2,\" \",n1,\" \",n3)\n",
    "elif n2<n1 and n2<n3:\n",
    "     print(n2,\" \",n3,\" \",n1)\n",
    "elif n3<n1 and n1<n2:\n",
    "     print(n3,\" \",n1,\" \",n1)\n",
    "else :\n",
    "     print(n3,\" \",n2,\" \",n1)"
   ]
  },
  {
   "cell_type": "code",
   "execution_count": null,
   "metadata": {},
   "outputs": [],
   "source": [
    "# Print months in a year"
   ]
  },
  {
   "cell_type": "code",
   "execution_count": 32,
   "metadata": {},
   "outputs": [
    {
     "name": "stdout",
     "output_type": "stream",
     "text": [
      "Enter number in between 1 to 12 :11\n",
      "November\n"
     ]
    }
   ],
   "source": [
    "mnt=int(input(\"Enter number in between 1 to 12 :\"))\n",
    "if mnt==1:\n",
    "    print(\"January\")\n",
    "elif mnt==2:\n",
    "    print(\"February\")\n",
    "elif mnt==3:\n",
    "    print(\"March\")\n",
    "elif mnt==4:\n",
    "    print(\"April\")\n",
    "elif mnt==5:\n",
    "    print(\"May\")\n",
    "elif mnt==6:\n",
    "    print(\"June\")\n",
    "elif mnt==7:\n",
    "    print(\"July\")\n",
    "elif mnt==8:\n",
    "    print(\"Auguest\")\n",
    "elif mnt==9:\n",
    "    print(\"September\")\n",
    "elif mnt==10:\n",
    "    print(\"October\")\n",
    "elif mnt==11:\n",
    "    print(\"November\")\n",
    "elif mnt==12:\n",
    "    print(\"December\")\n",
    "else:\n",
    "    print(\"Please enter a valid number \")"
   ]
  },
  {
   "cell_type": "code",
   "execution_count": 1,
   "metadata": {},
   "outputs": [
    {
     "name": "stdout",
     "output_type": "stream",
     "text": [
      "Enter a number :12\n",
      "Enter power :2\n",
      "144\n"
     ]
    }
   ],
   "source": [
    "# Print the power of  number\n"
   ]
  },
  {
   "cell_type": "code",
   "execution_count": 2,
   "metadata": {},
   "outputs": [
    {
     "name": "stdout",
     "output_type": "stream",
     "text": [
      "Enter a number :12\n",
      "Enter power :2\n",
      "144\n"
     ]
    }
   ],
   "source": [
    "numb=int(input(\"Enter a number :\"))\n",
    "pow=int(input(\"Enter power :\"))\n",
    "print(numb**pow)"
   ]
  },
  {
   "cell_type": "code",
   "execution_count": null,
   "metadata": {},
   "outputs": [],
   "source": [
    "#Multiple table using for loop"
   ]
  },
  {
   "cell_type": "code",
   "execution_count": 4,
   "metadata": {},
   "outputs": [
    {
     "name": "stdout",
     "output_type": "stream",
     "text": [
      "Enter number :9\n",
      "Enter limit :10\n",
      "Multiple Table of  9 is \n",
      "1 * 9 = 9\n",
      "2 * 9 = 18\n",
      "3 * 9 = 27\n",
      "4 * 9 = 36\n",
      "5 * 9 = 45\n",
      "6 * 9 = 54\n",
      "7 * 9 = 63\n",
      "8 * 9 = 72\n",
      "9 * 9 = 81\n",
      "10 * 9 = 90\n"
     ]
    }
   ],
   "source": [
    "num=int(input(\"Enter number :\"))\n",
    "limit=int(input(\"Enter limit :\"))\n",
    "print(\"Multiple Table of \",num,\"is \")\n",
    "for i in range(1,limit+1):\n",
    "    print(i,\"*\",num,\"=\",i*num)\n",
    "    "
   ]
  },
  {
   "cell_type": "code",
   "execution_count": null,
   "metadata": {},
   "outputs": [],
   "source": [
    "#Reverse of a number"
   ]
  },
  {
   "cell_type": "code",
   "execution_count": 7,
   "metadata": {},
   "outputs": [
    {
     "name": "stdout",
     "output_type": "stream",
     "text": [
      "Enter a number :123\n",
      "321\n"
     ]
    }
   ],
   "source": [
    "num=int(input(\"Enter a number :\"))\n",
    "rev=0\n",
    "while num>0:\n",
    "    rem=num%10\n",
    "    rev=rev*10+rem\n",
    "    num=num//10\n",
    "print(rev)   \n",
    "    "
   ]
  },
  {
   "cell_type": "code",
   "execution_count": null,
   "metadata": {},
   "outputs": [],
   "source": [
    "# Fibonacii of number"
   ]
  },
  {
   "cell_type": "code",
   "execution_count": 21,
   "metadata": {},
   "outputs": [
    {
     "name": "stdout",
     "output_type": "stream",
     "text": [
      "Enter number of terms :5\n",
      "0\n",
      "1\n",
      "1\n",
      "2\n",
      "3\n"
     ]
    }
   ],
   "source": [
    "f1=0\n",
    "f2=1\n",
    "num=int(input(\"Enter number of terms :\"))\n",
    "print(f1)\n",
    "print(f2)\n",
    "\n",
    "for i in range(num-2):\n",
    "    f3=f1+f2\n",
    "    print(f3)\n",
    "    f1=f2\n",
    "    f2=f3\n",
    "    \n",
    "    \n"
   ]
  },
  {
   "cell_type": "code",
   "execution_count": null,
   "metadata": {},
   "outputs": [],
   "source": [
    "#Reverse of number and sum"
   ]
  },
  {
   "cell_type": "code",
   "execution_count": 25,
   "metadata": {},
   "outputs": [
    {
     "name": "stdout",
     "output_type": "stream",
     "text": [
      "Enter a number :345\n",
      "543\n",
      "12\n"
     ]
    }
   ],
   "source": [
    "num=int(input(\"Enter a number :\"))\n",
    "rev=0\n",
    "f1=0\n",
    "while num>0:\n",
    "    rem=num%10\n",
    "    f1=f1+rem\n",
    "    rev=rev*10+rem\n",
    "    num=num//10\n",
    "print(rev)   \n",
    "print(f1)    "
   ]
  },
  {
   "cell_type": "code",
   "execution_count": null,
   "metadata": {},
   "outputs": [],
   "source": [
    "#To check Palindrome or not"
   ]
  },
  {
   "cell_type": "code",
   "execution_count": 31,
   "metadata": {},
   "outputs": [
    {
     "name": "stdout",
     "output_type": "stream",
     "text": [
      "Enter a number :121\n",
      "121 is Palindrome\n"
     ]
    }
   ],
   "source": [
    "num=int(input(\"Enter a number :\"))\n",
    "temp=num\n",
    "rev=0\n",
    "while num>0:\n",
    "    rem=num%10\n",
    "    rev=rev*10+rem\n",
    "    num=num//10\n",
    "if rev==temp:\n",
    "    print(temp,\"is Palindrome\")\n",
    "else :\n",
    "    print(temp,\"is  not Palindrome\")"
   ]
  },
  {
   "cell_type": "code",
   "execution_count": null,
   "metadata": {},
   "outputs": [],
   "source": [
    "# To check Armstrong number or not"
   ]
  },
  {
   "cell_type": "code",
   "execution_count": 43,
   "metadata": {},
   "outputs": [
    {
     "name": "stdout",
     "output_type": "stream",
     "text": [
      "Enter number :9\n",
      "9 is an Armstrong number\n"
     ]
    }
   ],
   "source": [
    "num=int(input(\"Enter number :\"))\n",
    "temp=num\n",
    "num1=num\n",
    "dig=0\n",
    "while num>0:\n",
    "    num=num//10\n",
    "    dig=dig+1\n",
    "sum=0\n",
    "for i in range(dig):\n",
    "    digit=temp%10\n",
    "    sum=sum+digit**dig\n",
    "    temp=temp//10\n",
    "if num1==sum:\n",
    "    print(num1,\"is an Armstrong number\")\n",
    "else :\n",
    "    print(num1,\"is not Armstrong number\")\n",
    "    \n",
    "    \n",
    "\n",
    "    "
   ]
  },
  {
   "cell_type": "code",
   "execution_count": null,
   "metadata": {},
   "outputs": [],
   "source": [
    "# Whether given number is prime or not"
   ]
  },
  {
   "cell_type": "code",
   "execution_count": 17,
   "metadata": {},
   "outputs": [
    {
     "name": "stdout",
     "output_type": "stream",
     "text": [
      "Enter number :21\n",
      "The number is not Prime\n"
     ]
    }
   ],
   "source": [
    "num=int(input(\"Enter number :\"))\n",
    "count=0\n",
    "for i in range (2,num):\n",
    "    if num%i==0:\n",
    "        count=1\n",
    "if count==1:\n",
    "    print(\"The number is not Prime\")\n",
    "else :\n",
    "    print(\"The number is Prime\")\n",
    "    "
   ]
  },
  {
   "cell_type": "code",
   "execution_count": null,
   "metadata": {},
   "outputs": [],
   "source": [
    "#star pattern"
   ]
  },
  {
   "cell_type": "code",
   "execution_count": 10,
   "metadata": {},
   "outputs": [
    {
     "name": "stdout",
     "output_type": "stream",
     "text": [
      "\n",
      "*\n",
      "**\n",
      "***\n",
      "****\n"
     ]
    }
   ],
   "source": [
    "for i in range(5):#outer loop\n",
    "    for j in range(i):#inner loop\n",
    "        print(\"*\",end=\"\")\n",
    "    print()"
   ]
  },
  {
   "cell_type": "code",
   "execution_count": null,
   "metadata": {},
   "outputs": [],
   "source": [
    "#Number pattern"
   ]
  },
  {
   "cell_type": "code",
   "execution_count": null,
   "metadata": {},
   "outputs": [],
   "source": [
    "for i in range(6):\n",
    "    for j in range(i):\n",
    "        print(i,end=\"\")\n",
    "    print()"
   ]
  }
 ],
 "metadata": {
  "kernelspec": {
   "display_name": "Python 3",
   "language": "python",
   "name": "python3"
  },
  "language_info": {
   "codemirror_mode": {
    "name": "ipython",
    "version": 3
   },
   "file_extension": ".py",
   "mimetype": "text/x-python",
   "name": "python",
   "nbconvert_exporter": "python",
   "pygments_lexer": "ipython3",
   "version": "3.8.5"
  }
 },
 "nbformat": 4,
 "nbformat_minor": 4
}
