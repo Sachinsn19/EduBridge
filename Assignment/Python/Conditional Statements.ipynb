{
 "cells": [
  {
   "cell_type": "markdown",
   "metadata": {},
   "source": [
    "# Programs"
   ]
  },
  {
   "cell_type": "code",
   "execution_count": null,
   "metadata": {},
   "outputs": [],
   "source": [
    "#Pgm to print days in week using numbers"
   ]
  },
  {
   "cell_type": "code",
   "execution_count": 2,
   "metadata": {},
   "outputs": [
    {
     "name": "stdout",
     "output_type": "stream",
     "text": [
      "Enter number in between 1 to 7 :5\n",
      "Thursday\n"
     ]
    }
   ],
   "source": [
    "x=int(input(\"Enter number in between 1 to 7 :\"))\n",
    "if x==1:\n",
    "    print(\"Sunday\")\n",
    "elif x==2:\n",
    "    print(\"Monday\")\n",
    "elif x==3:\n",
    "    print(\"Tuesday\")\n",
    "elif x==4:\n",
    "    print(\"Wednesday\")\n",
    "elif x==5:\n",
    "    print(\"Thursday\")\n",
    "elif x==6:\n",
    "    print(\"Friday\")\n",
    "elif x==7:\n",
    "    print(\"Saturday\")\n",
    "else:\n",
    "    print(\"Please enter a valid number\")"
   ]
  },
  {
   "cell_type": "code",
   "execution_count": null,
   "metadata": {},
   "outputs": [],
   "source": [
    "#Give 10% bonus if salary greater than 10000\n"
   ]
  },
  {
   "cell_type": "code",
   "execution_count": 3,
   "metadata": {},
   "outputs": [
    {
     "name": "stdout",
     "output_type": "stream",
     "text": [
      "Enter the salary :12300\n",
      "13530.0\n"
     ]
    }
   ],
   "source": [
    "n=int(input(\"Enter the salary :\"))\n",
    "if n>=10000:\n",
    "    print(n+((n*10)/100))\n",
    "else:\n",
    "    print(\"No bonus\")"
   ]
  },
  {
   "cell_type": "code",
   "execution_count": null,
   "metadata": {},
   "outputs": [],
   "source": [
    "#pgm to print grades based on marks"
   ]
  },
  {
   "cell_type": "code",
   "execution_count": 4,
   "metadata": {},
   "outputs": [
    {
     "name": "stdout",
     "output_type": "stream",
     "text": [
      "Enter your mark:80\n",
      "Grade is B\n"
     ]
    }
   ],
   "source": [
    "mark=float(input(\"Enter your mark:\"))\n",
    "if mark>90:\n",
    "    print(\"Grade is A\")\n",
    "elif mark>=75 and mark<90:\n",
    "    print(\"Grade is B\")\n",
    "elif mark>=65 and mark<75:\n",
    "    print(\"Grade is C\")\n",
    "elif mark>=50 and mark<65:\n",
    "    print(\"Grade is D\")\n",
    "else :\n",
    "    print(\" Fail\")"
   ]
  },
  {
   "cell_type": "code",
   "execution_count": null,
   "metadata": {},
   "outputs": [],
   "source": [
    "#Io print smallest among 3 numbers"
   ]
  },
  {
   "cell_type": "code",
   "execution_count": 5,
   "metadata": {},
   "outputs": [
    {
     "name": "stdout",
     "output_type": "stream",
     "text": [
      "Enter 3 numbers :23\n",
      "12\n",
      "8\n",
      "8  is smaller\n"
     ]
    }
   ],
   "source": [
    "n1=int(input(\"Enter 3 numbers :\"))\n",
    "n2=int(input())\n",
    "n3=int(input())\n",
    "if n1<n2:\n",
    "    if n1<n3:\n",
    "        print(n1,\"is smaller\")\n",
    "    else:\n",
    "        print(n3,\"is smaller\")\n",
    "else:\n",
    "    if n2<n3:\n",
    "        print(n2,\" is smaller\")\n",
    "    else:\n",
    "        print(n3,\" is smaller\")"
   ]
  },
  {
   "cell_type": "code",
   "execution_count": null,
   "metadata": {},
   "outputs": [],
   "source": [
    "# print calculator"
   ]
  },
  {
   "cell_type": "code",
   "execution_count": 6,
   "metadata": {},
   "outputs": [
    {
     "name": "stdout",
     "output_type": "stream",
     "text": [
      "Enter First Number 12\n",
      "Enter operators from [+, -, *, /, //, %]*\n",
      "Enter Second Number 4\n",
      "48\n"
     ]
    }
   ],
   "source": [
    "num1=int(input(\"Enter First Number \"))\n",
    "op=input(\"Enter operators from [+, -, *, /, //, %]\")\n",
    "num2=int(input(\"Enter Second Number \"))\n",
    "if op=='+':\n",
    "    print(num1+num2)\n",
    "elif op=='-':\n",
    "    print(num1-num2)\n",
    "elif op=='*':\n",
    "    print(num1*num2)\n",
    "elif op=='/':\n",
    "    print(num1/num2)\n",
    "elif op=='//':\n",
    "    print(num1/num2)\n",
    "elif op=='%':\n",
    "    print(num1%num2)\n",
    "else:\n",
    "    print(\"Please enter provided operators\")"
   ]
  },
  {
   "cell_type": "code",
   "execution_count": null,
   "metadata": {},
   "outputs": [],
   "source": [
    "# To check a number is even or odd"
   ]
  },
  {
   "cell_type": "code",
   "execution_count": 7,
   "metadata": {},
   "outputs": [
    {
     "name": "stdout",
     "output_type": "stream",
     "text": [
      "Enter a number :12\n",
      "12 is a even number\n"
     ]
    }
   ],
   "source": [
    "m=int(input(\"Enter a number :\"))\n",
    "if m%2==0:\n",
    "    print(m,\"is a even number\")\n",
    "else:\n",
    "    print(m,\"is odd number\")"
   ]
  },
  {
   "cell_type": "code",
   "execution_count": null,
   "metadata": {},
   "outputs": [],
   "source": [
    "#To check leap year or not"
   ]
  },
  {
   "cell_type": "code",
   "execution_count": 8,
   "metadata": {},
   "outputs": [
    {
     "name": "stdout",
     "output_type": "stream",
     "text": [
      "Enter year :2009\n",
      "2009  is not a Leap Year\n"
     ]
    }
   ],
   "source": [
    "year=int(input(\"Enter year :\"))\n",
    "if (year%4)==0:\n",
    "    print(year,\"is a Leap Year\")\n",
    "elif (year%100)!=0:\n",
    "    print(year,\" is not a Leap Year\")\n",
    "elif (year%400==0):\n",
    "    print(year,\"is a Leap Year\")\n",
    "    "
   ]
  },
  {
   "cell_type": "code",
   "execution_count": null,
   "metadata": {},
   "outputs": [],
   "source": [
    "# To print greatest among 3 numbers"
   ]
  },
  {
   "cell_type": "code",
   "execution_count": 9,
   "metadata": {},
   "outputs": [
    {
     "name": "stdout",
     "output_type": "stream",
     "text": [
      "Enter 3 numbers :12\n",
      "23\n",
      "15\n",
      "23  is greater\n"
     ]
    }
   ],
   "source": [
    "n1=int(input(\"Enter 3 numbers :\"))\n",
    "n2=int(input())\n",
    "n3=int(input())\n",
    "if n1>n2:\n",
    "    if n1>n3:\n",
    "        print(n1,\"is greater\")\n",
    "    else:\n",
    "        print(n3,\"is greater\")\n",
    "else:\n",
    "    if n2>n3:\n",
    "        print(n2,\" is greater\")\n",
    "    else:\n",
    "        print(n3,\" is greater\")\n",
    "        "
   ]
  },
  {
   "cell_type": "code",
   "execution_count": null,
   "metadata": {},
   "outputs": [],
   "source": [
    "# To check voter is eligible or not"
   ]
  },
  {
   "cell_type": "code",
   "execution_count": 10,
   "metadata": {},
   "outputs": [
    {
     "name": "stdout",
     "output_type": "stream",
     "text": [
      "Enter your age :21\n",
      "You are eligible for vote\n"
     ]
    }
   ],
   "source": [
    "age=int(input(\"Enter your age :\"))\n",
    "if age>=18:\n",
    "    print(\"You are eligible for vote\")\n",
    "else:\n",
    "    print(\"You are not eligible \")"
   ]
  },
  {
   "cell_type": "code",
   "execution_count": null,
   "metadata": {},
   "outputs": [],
   "source": [
    "#To print 3 numbers in ascending order"
   ]
  },
  {
   "cell_type": "code",
   "execution_count": 11,
   "metadata": {},
   "outputs": [
    {
     "name": "stdout",
     "output_type": "stream",
     "text": [
      "Enter 3 numbers :12\n",
      "24\n",
      "41\n",
      "12   24   41\n"
     ]
    }
   ],
   "source": [
    "n1=int(input(\"Enter 3 numbers :\"))\n",
    "n2=int(input())\n",
    "n3=int(input())\n",
    "if n1<n2 and n2<n3:\n",
    "    print(n1,\" \",n2,\" \",n3)\n",
    "elif n1<n2 and n1<n3:\n",
    "     print(n1,\" \",n3,\" \",n2)\n",
    "elif n2<n1 and n1<n3:\n",
    "     print(n2,\" \",n1,\" \",n3)\n",
    "elif n2<n1 and n2<n3:\n",
    "     print(n2,\" \",n3,\" \",n1)\n",
    "elif n3<n1 and n1<n2:\n",
    "     print(n3,\" \",n1,\" \",n1)\n",
    "else :\n",
    "     print(n3,\" \",n2,\" \",n1)"
   ]
  },
  {
   "cell_type": "code",
   "execution_count": null,
   "metadata": {},
   "outputs": [],
   "source": [
    "# Print months in a year using numbers"
   ]
  },
  {
   "cell_type": "code",
   "execution_count": 12,
   "metadata": {},
   "outputs": [
    {
     "name": "stdout",
     "output_type": "stream",
     "text": [
      "Enter number in between 1 to 12 :11\n",
      "November\n"
     ]
    }
   ],
   "source": [
    "mnt=int(input(\"Enter number in between 1 to 12 :\"))\n",
    "if mnt==1:\n",
    "    print(\"January\")\n",
    "elif mnt==2:\n",
    "    print(\"February\")\n",
    "elif mnt==3:\n",
    "    print(\"March\")\n",
    "elif mnt==4:\n",
    "    print(\"April\")\n",
    "elif mnt==5:\n",
    "    print(\"May\")\n",
    "elif mnt==6:\n",
    "    print(\"June\")\n",
    "elif mnt==7:\n",
    "    print(\"July\")\n",
    "elif mnt==8:\n",
    "    print(\"Auguest\")\n",
    "elif mnt==9:\n",
    "    print(\"September\")\n",
    "elif mnt==10:\n",
    "    print(\"October\")\n",
    "elif mnt==11:\n",
    "    print(\"November\")\n",
    "elif mnt==12:\n",
    "    print(\"December\")\n",
    "else:\n",
    "    print(\"Please enter a valid number \")"
   ]
  }
 ],
 "metadata": {
  "kernelspec": {
   "display_name": "Python 3",
   "language": "python",
   "name": "python3"
  },
  "language_info": {
   "codemirror_mode": {
    "name": "ipython",
    "version": 3
   },
   "file_extension": ".py",
   "mimetype": "text/x-python",
   "name": "python",
   "nbconvert_exporter": "python",
   "pygments_lexer": "ipython3",
   "version": "3.8.5"
  }
 },
 "nbformat": 4,
 "nbformat_minor": 4
}
